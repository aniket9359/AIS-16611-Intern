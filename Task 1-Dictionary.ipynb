{
 "cells": [
  {
   "cell_type": "code",
   "execution_count": 3,
   "id": "60d491cd-59ad-4b72-9f01-4453fafd9835",
   "metadata": {},
   "outputs": [
    {
     "data": {
      "text/plain": [
       "{'name': 'aniket sureshrao wagh', 'Roll no.': 16611, 'sub.': 'STAT'}"
      ]
     },
     "execution_count": 3,
     "metadata": {},
     "output_type": "execute_result"
    }
   ],
   "source": [
    "#dictionary cretion\n",
    "dict={\"name\":\"aniket sureshrao wagh\",\"Roll no.\":16611,\"sub.\":\"STAT\"}\n",
    "dict"
   ]
  },
  {
   "cell_type": "code",
   "execution_count": 4,
   "id": "af34bf06-821b-46cd-ad00-aeca83fdd3b8",
   "metadata": {},
   "outputs": [
    {
     "data": {
      "text/plain": [
       "16611"
      ]
     },
     "execution_count": 4,
     "metadata": {},
     "output_type": "execute_result"
    }
   ],
   "source": [
    "dict[\"Roll no.\"]"
   ]
  },
  {
   "cell_type": "code",
   "execution_count": 5,
   "id": "871fa2ee-de8d-401d-86c5-81a0c79adb2c",
   "metadata": {},
   "outputs": [
    {
     "data": {
      "text/plain": [
       "{'Name': 'Aniket sureshrao wagh', 'class': 'MSC STAT', 'Roll no.': 16611}"
      ]
     },
     "execution_count": 5,
     "metadata": {},
     "output_type": "execute_result"
    }
   ],
   "source": [
    "dict1={\"Name\":\"Aniket sureshrao wagh\",\"class\":\"MSC STAT\",\"Roll no.\":16611}\n",
    "dict1"
   ]
  },
  {
   "cell_type": "code",
   "execution_count": 6,
   "id": "767195b6-93c4-4440-8c7b-2cd39ab14db4",
   "metadata": {},
   "outputs": [
    {
     "data": {
      "text/plain": [
       "3"
      ]
     },
     "execution_count": 6,
     "metadata": {},
     "output_type": "execute_result"
    }
   ],
   "source": [
    "len(dict1)"
   ]
  },
  {
   "cell_type": "code",
   "execution_count": 7,
   "id": "ec55c026-1fa1-48d2-8a8c-08d85dff1c7a",
   "metadata": {},
   "outputs": [
    {
     "data": {
      "text/plain": [
       "{'Name': 'Aniket', 'Roll no': 16611, 'subject': ['stat', 'math']}"
      ]
     },
     "execution_count": 7,
     "metadata": {},
     "output_type": "execute_result"
    }
   ],
   "source": [
    "dict2={\"Name\":\"Aniket\",\"Roll no\":16611,\"subject\":[\"stat\",\"math\"]}\n",
    "dict2"
   ]
  },
  {
   "cell_type": "code",
   "execution_count": 8,
   "id": "eee2a644-b90d-4ace-86db-2adbffed037b",
   "metadata": {},
   "outputs": [
    {
     "data": {
      "text/plain": [
       "dict"
      ]
     },
     "execution_count": 8,
     "metadata": {},
     "output_type": "execute_result"
    }
   ],
   "source": [
    "type(dict1)"
   ]
  },
  {
   "cell_type": "code",
   "execution_count": 15,
   "id": "a06f37f8-45b1-4206-8f9e-627fdb2900b3",
   "metadata": {},
   "outputs": [
    {
     "ename": "TypeError",
     "evalue": "'dict' object is not callable",
     "output_type": "error",
     "traceback": [
      "\u001b[1;31m---------------------------------------------------------------------------\u001b[0m",
      "\u001b[1;31mTypeError\u001b[0m                                 Traceback (most recent call last)",
      "Cell \u001b[1;32mIn[15], line 2\u001b[0m\n\u001b[0;32m      1\u001b[0m \u001b[38;5;66;03m#dict constructer\u001b[39;00m\n\u001b[1;32m----> 2\u001b[0m mydict\u001b[38;5;241m=\u001b[39m\u001b[38;5;28mdict\u001b[39m(name\u001b[38;5;241m=\u001b[39m\u001b[38;5;124m\"\u001b[39m\u001b[38;5;124mAniket\u001b[39m\u001b[38;5;124m\"\u001b[39m,state\u001b[38;5;241m=\u001b[39m\u001b[38;5;124m\"\u001b[39m\u001b[38;5;124mMaharashtra\u001b[39m\u001b[38;5;124m\"\u001b[39m)\n\u001b[0;32m      3\u001b[0m mydict\n",
      "\u001b[1;31mTypeError\u001b[0m: 'dict' object is not callable"
     ]
    }
   ],
   "source": [
    "#dict constructer\n",
    "mydict=dict(name=\"Aniket\",state=\"Maharashtra\")\n",
    "mydict"
   ]
  },
  {
   "cell_type": "code",
   "execution_count": null,
   "id": "541c4a65-5aba-4560-9265-41d6e811d58a",
   "metadata": {},
   "outputs": [],
   "source": []
  },
  {
   "cell_type": "code",
   "execution_count": null,
   "id": "1ae1d0e2-4970-4c2e-97fd-cd70b371c12c",
   "metadata": {},
   "outputs": [],
   "source": []
  }
 ],
 "metadata": {
  "kernelspec": {
   "display_name": "Python 3 (ipykernel)",
   "language": "python",
   "name": "python3"
  },
  "language_info": {
   "codemirror_mode": {
    "name": "ipython",
    "version": 3
   },
   "file_extension": ".py",
   "mimetype": "text/x-python",
   "name": "python",
   "nbconvert_exporter": "python",
   "pygments_lexer": "ipython3",
   "version": "3.11.7"
  }
 },
 "nbformat": 4,
 "nbformat_minor": 5
}
