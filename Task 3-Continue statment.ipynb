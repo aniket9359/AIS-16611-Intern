{
 "cells": [
  {
   "cell_type": "code",
   "execution_count": null,
   "id": "57b4702a-57bc-42d6-8019-da0f9eccbe2f",
   "metadata": {},
   "outputs": [],
   "source": [
    "#Continue Statment\n",
    "#explaination- The continue statement in Python is used to skip the remaining code inside a loop for the current iteration only"
   ]
  },
  {
   "cell_type": "code",
   "execution_count": 39,
   "id": "728e305d-355c-4cff-8006-75b3ce26db26",
   "metadata": {},
   "outputs": [
    {
     "name": "stdout",
     "output_type": "stream",
     "text": [
      "0\n",
      "1\n",
      "2\n",
      "4\n",
      "5\n",
      "6\n",
      "7\n",
      "8\n"
     ]
    }
   ],
   "source": [
    "#Example\n",
    "#1\n",
    "for i in range(9):\n",
    "  if i == 3:\n",
    "    continue\n",
    "  print(i)"
   ]
  },
  {
   "cell_type": "code",
   "execution_count": 37,
   "id": "02303444-2003-4c7a-8b4c-de21d7922e09",
   "metadata": {},
   "outputs": [
    {
     "name": "stdout",
     "output_type": "stream",
     "text": [
      "1\n",
      "2\n",
      "4\n",
      "5\n",
      "6\n",
      "7\n",
      "8\n",
      "9\n"
     ]
    }
   ],
   "source": [
    "#2\n",
    "i = 0\n",
    "while i < 9:\n",
    "  i += 1\n",
    "  if i == 3:\n",
    "    continue\n",
    "  print(i) "
   ]
  },
  {
   "cell_type": "code",
   "execution_count": 71,
   "id": "7f71a888-0bef-4166-8046-2039a514a674",
   "metadata": {},
   "outputs": [],
   "source": [
    "#3\n",
    "num=0\n",
    "while num<10:\n",
    "    num+=1\n",
    "    if num%2==0:\n",
    "        continue\n",
    "        print(num)"
   ]
  }
 ],
 "metadata": {
  "kernelspec": {
   "display_name": "Python 3 (ipykernel)",
   "language": "python",
   "name": "python3"
  },
  "language_info": {
   "codemirror_mode": {
    "name": "ipython",
    "version": 3
   },
   "file_extension": ".py",
   "mimetype": "text/x-python",
   "name": "python",
   "nbconvert_exporter": "python",
   "pygments_lexer": "ipython3",
   "version": "3.11.7"
  }
 },
 "nbformat": 4,
 "nbformat_minor": 5
}
