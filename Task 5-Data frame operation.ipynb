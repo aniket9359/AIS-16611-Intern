{
 "cells": [
  {
   "cell_type": "code",
   "execution_count": 3,
   "id": "e40d00d2-0621-4ef4-b739-3fecdd0e9074",
   "metadata": {},
   "outputs": [
    {
     "name": "stdout",
     "output_type": "stream",
     "text": [
      "   A    B\n",
      "0  1  foo\n",
      "1  2  bar\n",
      "2  2  foo\n",
      "3  3  bar\n",
      "4  4  foo\n",
      "5  4  bar\n",
      "6  4  foo\n",
      "7  5  bar\n"
     ]
    }
   ],
   "source": [
    "#Dataframe operations\n",
    "import pandas as pd\n",
    "# Create a sample DataFrame\n",
    "data = {\n",
    "    'A': [1, 2, 2, 3, 4, 4, 4, 5],\n",
    "    'B': ['foo', 'bar', 'foo', 'bar', 'foo', 'bar', 'foo', 'bar']\n",
    "}\n",
    "\n",
    "df = pd.DataFrame(data)\n",
    "print(df)"
   ]
  },
  {
   "cell_type": "code",
   "execution_count": 5,
   "id": "74446abe-6ec5-4f9b-a045-5c8e51719ce2",
   "metadata": {},
   "outputs": [
    {
     "name": "stdout",
     "output_type": "stream",
     "text": [
      "Count of each value in column 'A':\n",
      "A\n",
      "4    3\n",
      "2    2\n",
      "1    1\n",
      "3    1\n",
      "5    1\n",
      "Name: count, dtype: int64\n"
     ]
    }
   ],
   "source": [
    "# Count occurrences of each value in column 'A'\n",
    "count_A = df['A'].value_counts()\n",
    "print(\"Count of each value in column 'A':\")\n",
    "print(count_A)"
   ]
  },
  {
   "cell_type": "code",
   "execution_count": 7,
   "id": "4e67325f-6eb0-44b7-acee-036bf8f0b13f",
   "metadata": {},
   "outputs": [
    {
     "name": "stdout",
     "output_type": "stream",
     "text": [
      "\n",
      "DataFrame with 'A_squared':\n",
      "   A    B  A_squared\n",
      "0  1  foo          1\n",
      "1  2  bar          4\n",
      "2  2  foo          4\n",
      "3  3  bar          9\n",
      "4  4  foo         16\n",
      "5  4  bar         16\n",
      "6  4  foo         16\n",
      "7  5  bar         25\n"
     ]
    }
   ],
   "source": [
    "# Apply a function to column 'A' (e.g., square each value)\n",
    "df['A_squared'] = df['A'].apply(lambda x: x ** 2)\n",
    "print(\"\\nDataFrame with 'A_squared':\")\n",
    "print(df)"
   ]
  },
  {
   "cell_type": "code",
   "execution_count": 9,
   "id": "5e8870ae-b4fb-4ab8-a5a7-e6aaaf588f21",
   "metadata": {},
   "outputs": [
    {
     "name": "stdout",
     "output_type": "stream",
     "text": [
      "\n",
      "Unique values in column 'B':\n",
      "['foo' 'bar']\n"
     ]
    }
   ],
   "source": [
    "# Find unique values in column 'B'\n",
    "unique_B = df['B'].unique()\n",
    "print(\"\\nUnique values in column 'B':\")\n",
    "print(unique_B)"
   ]
  },
  {
   "cell_type": "code",
   "execution_count": 11,
   "id": "ebbe7ea1-2d1f-4f16-b4b0-e44276f65308",
   "metadata": {},
   "outputs": [
    {
     "name": "stdout",
     "output_type": "stream",
     "text": [
      "\n",
      "Count of unique values in column 'B':\n",
      "2\n"
     ]
    }
   ],
   "source": [
    "# Count unique values in column 'B'\n",
    "unique_count_B = df['B'].nunique()\n",
    "print(\"\\nCount of unique values in column 'B':\")\n",
    "print(unique_count_B)"
   ]
  },
  {
   "cell_type": "code",
   "execution_count": null,
   "id": "d9b5290e-f5de-4a34-b47f-616ddc8a0a02",
   "metadata": {},
   "outputs": [],
   "source": []
  }
 ],
 "metadata": {
  "kernelspec": {
   "display_name": "Python 3 (ipykernel)",
   "language": "python",
   "name": "python3"
  },
  "language_info": {
   "codemirror_mode": {
    "name": "ipython",
    "version": 3
   },
   "file_extension": ".py",
   "mimetype": "text/x-python",
   "name": "python",
   "nbconvert_exporter": "python",
   "pygments_lexer": "ipython3",
   "version": "3.11.7"
  }
 },
 "nbformat": 4,
 "nbformat_minor": 5
}
