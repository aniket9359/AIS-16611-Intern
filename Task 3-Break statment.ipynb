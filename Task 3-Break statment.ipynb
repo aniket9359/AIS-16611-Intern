{
 "cells": [
  {
   "cell_type": "markdown",
   "id": "099a35a5-dde3-4801-8335-2a73a2cbecf6",
   "metadata": {},
   "source": [
    "#control statment\n",
    "#1.Break statment\n",
    "#Explaination-In Python, the break statement is used to immediately exit a loop when a certain condition is met. \n",
    "#When working with nested loops, the break statement can be used to break out of both the inner and outer loops."
   ]
  },
  {
   "cell_type": "code",
   "execution_count": 1,
   "id": "86ee7697-2759-4869-81a1-f59387b44999",
   "metadata": {},
   "outputs": [
    {
     "name": "stdout",
     "output_type": "stream",
     "text": [
      "0\n",
      "1\n",
      "2\n",
      "3\n"
     ]
    }
   ],
   "source": [
    "#Example\n",
    "#1\n",
    "for i in range(9):\n",
    "  if i > 3:\n",
    "    break\n",
    "  print(i) "
   ]
  },
  {
   "cell_type": "code",
   "execution_count": 3,
   "id": "53897e0c-585f-4932-b60c-fde0ee678bac",
   "metadata": {},
   "outputs": [
    {
     "name": "stdout",
     "output_type": "stream",
     "text": [
      "1\n",
      "2\n",
      "3\n"
     ]
    }
   ],
   "source": [
    "#2\n",
    "i = 1\n",
    "while i < 9:\n",
    "  print(i)\n",
    "  if i == 3:\n",
    "    break\n",
    "  i += 1"
   ]
  },
  {
   "cell_type": "code",
   "execution_count": 11,
   "id": "4523cb06-3f5c-4b18-91cc-94a6f40be730",
   "metadata": {},
   "outputs": [
    {
     "name": "stdout",
     "output_type": "stream",
     "text": [
      "1\n",
      "2\n",
      "3\n",
      "4\n",
      "5\n",
      "6\n",
      "7\n"
     ]
    }
   ],
   "source": [
    "#3\n",
    "i = 1\n",
    "while i < 8:\n",
    "  print(i)\n",
    "  if i == 7:\n",
    "    break\n",
    "  i += 1"
   ]
  }
 ],
 "metadata": {
  "kernelspec": {
   "display_name": "Python 3 (ipykernel)",
   "language": "python",
   "name": "python3"
  },
  "language_info": {
   "codemirror_mode": {
    "name": "ipython",
    "version": 3
   },
   "file_extension": ".py",
   "mimetype": "text/x-python",
   "name": "python",
   "nbconvert_exporter": "python",
   "pygments_lexer": "ipython3",
   "version": "3.11.7"
  }
 },
 "nbformat": 4,
 "nbformat_minor": 5
}
