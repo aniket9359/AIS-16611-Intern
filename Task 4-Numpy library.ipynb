{
 "cells": [
  {
   "cell_type": "code",
   "execution_count": null,
   "id": "ecb02f06-2ea6-43df-ab5b-ae17c53b176f",
   "metadata": {},
   "outputs": [],
   "source": [
    "#NumPy Libarary\n",
    "#Explaination-\n",
    "#NumPy is a python library.NumPy is used for working with arrays.NumPy is short for \"Numerical Python\"."
   ]
  },
  {
   "cell_type": "code",
   "execution_count": 1,
   "id": "d91ec813-e069-4a9e-8323-83c2b1477cc4",
   "metadata": {},
   "outputs": [
    {
     "name": "stdout",
     "output_type": "stream",
     "text": [
      "[1 2 3 4 5]\n"
     ]
    }
   ],
   "source": [
    "import numpy\n",
    "arr=numpy.array([1,2,3,4,5])\n",
    "print(arr)"
   ]
  },
  {
   "cell_type": "code",
   "execution_count": 8,
   "id": "dbd40f22-49a5-4f93-8b3b-f2e2e70ee9a0",
   "metadata": {},
   "outputs": [
    {
     "name": "stdout",
     "output_type": "stream",
     "text": [
      "[1 2 3 4 5]\n"
     ]
    }
   ],
   "source": [
    "import numpy as np\n",
    "arr=np.array([1,2,3,4,5])\n",
    "print(arr)"
   ]
  },
  {
   "cell_type": "code",
   "execution_count": 12,
   "id": "13483193-c88a-4f02-9330-1b1d48903417",
   "metadata": {},
   "outputs": [
    {
     "name": "stdout",
     "output_type": "stream",
     "text": [
      "1.26.4\n"
     ]
    }
   ],
   "source": [
    "import numpy as np\n",
    "print(np.__version__)"
   ]
  },
  {
   "cell_type": "code",
   "execution_count": 14,
   "id": "0e693a5b-a073-4703-bc73-74d063b7c827",
   "metadata": {},
   "outputs": [
    {
     "name": "stdout",
     "output_type": "stream",
     "text": [
      "[1 2 3 4 5]\n",
      "<class 'numpy.ndarray'>\n"
     ]
    }
   ],
   "source": [
    "import numpy as np\n",
    "arr=np.array([1,2,3,4,5])\n",
    "print(arr)\n",
    "print(type(arr))"
   ]
  },
  {
   "cell_type": "code",
   "execution_count": 18,
   "id": "817edfee-3bc8-4f17-ab34-3926f0c8408e",
   "metadata": {},
   "outputs": [
    {
     "name": "stdout",
     "output_type": "stream",
     "text": [
      "6\n"
     ]
    }
   ],
   "source": [
    "# O D array\n",
    "import numpy as np\n",
    "arr=np.array(6)\n",
    "print(arr)"
   ]
  },
  {
   "cell_type": "code",
   "execution_count": 20,
   "id": "465a2198-9a43-411d-86de-c088a1d1b115",
   "metadata": {},
   "outputs": [
    {
     "data": {
      "text/plain": [
       "array([1, 2, 3])"
      ]
     },
     "execution_count": 20,
     "metadata": {},
     "output_type": "execute_result"
    }
   ],
   "source": [
    "#1D array\n",
    "import numpy as np\n",
    "arr=np.array([1,2,3])\n",
    "arr"
   ]
  },
  {
   "cell_type": "code",
   "execution_count": 24,
   "id": "49f39ae7-62ab-4be4-8157-f24a5abf2b24",
   "metadata": {},
   "outputs": [
    {
     "name": "stdout",
     "output_type": "stream",
     "text": [
      "[[1 2 3]\n",
      " [5 6 7]]\n"
     ]
    }
   ],
   "source": [
    "#2D array\n",
    "import numpy as np\n",
    "arr=np.array([[1,2,3],[5,6,7]])\n",
    "print(arr)"
   ]
  },
  {
   "cell_type": "code",
   "execution_count": 26,
   "id": "a29cffad-57cc-4901-a4bc-3654e53284ef",
   "metadata": {},
   "outputs": [
    {
     "name": "stdout",
     "output_type": "stream",
     "text": [
      "[[1 2 3]\n",
      " [4 5 6]\n",
      " [7 8 9]]\n"
     ]
    }
   ],
   "source": [
    "#3D array\n",
    "import numpy as np\n",
    "arr=np.array([[1,2,3],[4,5,6],[7,8,9]])\n",
    "print(arr)"
   ]
  },
  {
   "cell_type": "code",
   "execution_count": 44,
   "id": "6efb8ab3-570c-4a93-b4af-34730d0cce73",
   "metadata": {},
   "outputs": [
    {
     "name": "stdout",
     "output_type": "stream",
     "text": [
      "0\n",
      "1\n",
      "2\n",
      "3\n"
     ]
    }
   ],
   "source": [
    "#check number of dimension\n",
    "import numpy as np\n",
    "x=np.array(13)\n",
    "y=np.array([1,2,3])\n",
    "z=np.array([[1,2,3],[4,5,6]])\n",
    "w=np.array([[[1,2,3],[4,5,6]],[[6,7,8],[1,2,3]]])\n",
    "print(x.ndim)\n",
    "print(y.ndim)\n",
    "print(z.ndim)\n",
    "print(w.ndim)"
   ]
  },
  {
   "cell_type": "code",
   "execution_count": 58,
   "id": "05e2e665-0743-4503-97b5-11f2385f4b7a",
   "metadata": {},
   "outputs": [
    {
     "name": "stdout",
     "output_type": "stream",
     "text": [
      "[[[[[[[1 2 3]]]]]]]\n",
      "Number of dimension: 7\n"
     ]
    }
   ],
   "source": [
    "#Higher dimensional array\n",
    "import numpy as np\n",
    "arr=np.array([1,2,3],ndmin=7)\n",
    "print(arr)\n",
    "print(\"Number of dimension:\",arr.ndim)"
   ]
  },
  {
   "cell_type": "code",
   "execution_count": 70,
   "id": "c2b084c7-a991-4efd-99da-f8916756cda6",
   "metadata": {},
   "outputs": [
    {
     "name": "stdout",
     "output_type": "stream",
     "text": [
      "9\n"
     ]
    }
   ],
   "source": [
    "#access array elemnts\n",
    "import numpy as np\n",
    "arr=np.array([2,5,1,4,5,9,7])\n",
    "print(arr[5])"
   ]
  },
  {
   "cell_type": "code",
   "execution_count": 72,
   "id": "2e4123cc-eb57-4538-9664-2d6a52d0d5c2",
   "metadata": {},
   "outputs": [
    {
     "name": "stdout",
     "output_type": "stream",
     "text": [
      "8\n"
     ]
    }
   ],
   "source": [
    "#get third and fourth element of array and add them\n",
    "import numpy as np\n",
    "arr=np.array([1,2,3,4,5])\n",
    "print(arr[2]+arr[4])"
   ]
  },
  {
   "cell_type": "code",
   "execution_count": 76,
   "id": "9f65be53-58ba-4172-8392-53ee075be9b5",
   "metadata": {},
   "outputs": [
    {
     "name": "stdout",
     "output_type": "stream",
     "text": [
      "Fifth element second rows: 3\n"
     ]
    }
   ],
   "source": [
    "#access 2D arrays \n",
    "import numpy as np\n",
    "arr=np.array([[1,2,3,5,4,5],[7,6,9,3,2,5]])\n",
    "print(\"Fifth element second rows:\",arr[1][3])"
   ]
  },
  {
   "cell_type": "code",
   "execution_count": 5,
   "id": "224f0533-d280-48be-9fa4-2c152491981d",
   "metadata": {},
   "outputs": [
    {
     "name": "stdout",
     "output_type": "stream",
     "text": [
      "7\n"
     ]
    }
   ],
   "source": [
    "#access 3D arrays\n",
    "#access third element of second array of the first array\n",
    "import numpy as np\n",
    "arr=np.array([[[2,8,4,9,1],[1,7,7,9,2]],[[1,2,3,4,5],[9,8,6,4,1]]])\n",
    "print(arr[0][1][2])"
   ]
  },
  {
   "cell_type": "code",
   "execution_count": 9,
   "id": "32b99504-2225-4ba9-9e90-cb84d3ff189b",
   "metadata": {},
   "outputs": [
    {
     "name": "stdout",
     "output_type": "stream",
     "text": [
      " last element of second dimension: 13\n"
     ]
    }
   ],
   "source": [
    "#negetive indexing\n",
    "#print last element of second dimension \n",
    "import numpy as np\n",
    "arr=np.array([[1,2,3,4,5,6],[7,8,9,10,11,13]])\n",
    "print(\" last element of second dimension:\",arr[1,-1])"
   ]
  },
  {
   "cell_type": "code",
   "execution_count": 11,
   "id": "4c83c0ac-e75a-48a0-9e0d-ce51fed52932",
   "metadata": {},
   "outputs": [
    {
     "name": "stdout",
     "output_type": "stream",
     "text": [
      "[2 3 4 5]\n"
     ]
    }
   ],
   "source": [
    "#slicing arrays\n",
    "import numpy as np\n",
    "arr=np.array([1,2,3,4,5,6])\n",
    "print(arr[1:5])"
   ]
  },
  {
   "cell_type": "code",
   "execution_count": 15,
   "id": "b1e51160-4293-4972-ba0d-f9b1de8492e7",
   "metadata": {},
   "outputs": [
    {
     "name": "stdout",
     "output_type": "stream",
     "text": [
      "[5 6 7 8 9]\n"
     ]
    }
   ],
   "source": [
    "#slice elements from index 4 to the end of array\n",
    "import numpy as np\n",
    "arr=np.array([1,2,3,4,5,6,7,8,9])\n",
    "print(arr[4:])"
   ]
  },
  {
   "cell_type": "code",
   "execution_count": 17,
   "id": "8bb12aae-5999-4677-b03e-fb8ac026cd4c",
   "metadata": {},
   "outputs": [
    {
     "ename": "SyntaxError",
     "evalue": "invalid syntax (1497895832.py, line 4)",
     "output_type": "error",
     "traceback": [
      "\u001b[1;36m  Cell \u001b[1;32mIn[17], line 4\u001b[1;36m\u001b[0m\n\u001b[1;33m    print([:5])\u001b[0m\n\u001b[1;37m           ^\u001b[0m\n\u001b[1;31mSyntaxError\u001b[0m\u001b[1;31m:\u001b[0m invalid syntax\n"
     ]
    }
   ],
   "source": [
    "#slice elements from begining to the index 5 (not included)\n",
    "import numpy as np\n",
    "arr=np.array([1,2,3,4,5,6,7,8])\n",
    "print([:5])"
   ]
  },
  {
   "cell_type": "code",
   "execution_count": null,
   "id": "cec949b4-463d-4dea-92ec-42b2e0dbc311",
   "metadata": {},
   "outputs": [],
   "source": []
  }
 ],
 "metadata": {
  "kernelspec": {
   "display_name": "Python 3 (ipykernel)",
   "language": "python",
   "name": "python3"
  },
  "language_info": {
   "codemirror_mode": {
    "name": "ipython",
    "version": 3
   },
   "file_extension": ".py",
   "mimetype": "text/x-python",
   "name": "python",
   "nbconvert_exporter": "python",
   "pygments_lexer": "ipython3",
   "version": "3.11.7"
  }
 },
 "nbformat": 4,
 "nbformat_minor": 5
}
