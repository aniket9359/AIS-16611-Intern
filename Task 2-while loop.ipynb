{
 "cells": [
  {
   "cell_type": "markdown",
   "id": "5ef311b0-4632-4521-9319-2873413d026b",
   "metadata": {},
   "source": [
    "#while loop\n",
    "#Explaination\n",
    "#With the while loop we can execute a set of statements as long as a condition is true.\n",
    "#A while loop is a control flow statement which repeatedly executes a block of code until the condition is satisfied. \n",
    "#It stops executing the block only if the condition fails. \n",
    "#One should use a 'while' loop when one needs to perform a repeated operation, but doesn't know in advance how many iterations would be needed."
   ]
  },
  {
   "cell_type": "code",
   "execution_count": 1,
   "id": "49d0b5b4-0226-43ec-9151-c1053bbb4a5f",
   "metadata": {},
   "outputs": [
    {
     "name": "stdout",
     "output_type": "stream",
     "text": [
      "10\n",
      "9\n",
      "8\n",
      "7\n",
      "6\n",
      "5\n",
      "4\n",
      "3\n",
      "2\n",
      "1\n"
     ]
    }
   ],
   "source": [
    "#1\n",
    "count=10\n",
    "while count>0:\n",
    "    print(count)\n",
    "    count-=1"
   ]
  },
  {
   "cell_type": "code",
   "execution_count": 2,
   "id": "7ec38f59-a8f5-4a7d-b73a-af65441d0d82",
   "metadata": {},
   "outputs": [
    {
     "name": "stdout",
     "output_type": "stream",
     "text": [
      "1\n",
      "2\n",
      "3\n",
      "4\n",
      "5\n"
     ]
    }
   ],
   "source": [
    "#2\n",
    "i = 1\n",
    "while i < 6:\n",
    "  print(i)\n",
    "  i += 1"
   ]
  },
  {
   "cell_type": "code",
   "execution_count": 3,
   "id": "932ece2a-9474-4c5d-abc5-69ff73989b73",
   "metadata": {},
   "outputs": [
    {
     "name": "stdout",
     "output_type": "stream",
     "text": [
      "1\n",
      "2\n",
      "3\n",
      "4\n",
      "5\n",
      "6\n",
      "7\n",
      "8\n",
      "9\n",
      "10\n"
     ]
    }
   ],
   "source": [
    "#3\n",
    "i=1\n",
    "while i<11:\n",
    "    print(i)\n",
    "    i+=1"
   ]
  },
  {
   "cell_type": "code",
   "execution_count": 4,
   "id": "e5f4b9a8-e067-4b63-a2b3-07cd41564480",
   "metadata": {},
   "outputs": [
    {
     "name": "stdout",
     "output_type": "stream",
     "text": [
      "1\n",
      "2\n",
      "3\n",
      "4\n",
      "5\n",
      "6\n",
      "7\n",
      "8\n",
      "9\n",
      "10\n"
     ]
    }
   ],
   "source": [
    "#4\n",
    "i = 1\n",
    "while i < 11:\n",
    "  print(i)\n",
    "  i += 1"
   ]
  },
  {
   "cell_type": "code",
   "execution_count": 5,
   "id": "b76f5e8b-eaa8-44c7-8975-35eaef661757",
   "metadata": {},
   "outputs": [
    {
     "name": "stdout",
     "output_type": "stream",
     "text": [
      "20\n",
      "19\n",
      "18\n",
      "17\n",
      "16\n",
      "15\n",
      "14\n",
      "13\n",
      "12\n",
      "11\n",
      "10\n",
      "9\n",
      "8\n",
      "7\n",
      "6\n",
      "5\n",
      "4\n",
      "3\n",
      "2\n",
      "1\n"
     ]
    }
   ],
   "source": [
    "#5\n",
    "count=20\n",
    "while count>0:\n",
    "    print(count)\n",
    "    count-=1"
   ]
  },
  {
   "cell_type": "code",
   "execution_count": null,
   "id": "488934bc-2427-46a7-8dc1-6f222e48beb9",
   "metadata": {},
   "outputs": [],
   "source": [
    "#6\n",
    "num=1\n",
    "total=0\n",
    "while num<=20:\n",
    "    if num%2==0:\n",
    "        total+=num\n",
    "        num+=1\n",
    "        print(total)"
   ]
  },
  {
   "cell_type": "code",
   "execution_count": null,
   "id": "74d7023c-0fff-4dab-821a-044ca49b2b22",
   "metadata": {},
   "outputs": [],
   "source": [
    "#7\n",
    "a,b=0,1\n",
    "while a<=50:\n",
    "    print(a)\n",
    "    a,b=b,a+b"
   ]
  },
  {
   "cell_type": "code",
   "execution_count": null,
   "id": "e81a5dbb-36b1-4872-8a65-e0c8cd021513",
   "metadata": {},
   "outputs": [],
   "source": [
    "#8\n",
    "num=1\n",
    "while num <=30:\n",
    "    if num %3==0\n",
    "    print(num)\n",
    "    num+=1"
   ]
  },
  {
   "cell_type": "code",
   "execution_count": null,
   "id": "8373af0c-69d5-42a8-917e-828bab41f1ac",
   "metadata": {},
   "outputs": [],
   "source": [
    "#9\n",
    "count=5\n",
    "while count>0:\n",
    "    print(count)\n",
    "    count-=1"
   ]
  },
  {
   "cell_type": "code",
   "execution_count": null,
   "id": "05f3843f-386a-472d-ba5c-8c843cb8df19",
   "metadata": {},
   "outputs": [],
   "source": [
    "#10\n",
    "num=1\n",
    "while num <=20:\n",
    "    if num %2==0\n",
    "    print(num)\n",
    "    num+=1"
   ]
  }
 ],
 "metadata": {
  "kernelspec": {
   "display_name": "Python 3 (ipykernel)",
   "language": "python",
   "name": "python3"
  },
  "language_info": {
   "codemirror_mode": {
    "name": "ipython",
    "version": 3
   },
   "file_extension": ".py",
   "mimetype": "text/x-python",
   "name": "python",
   "nbconvert_exporter": "python",
   "pygments_lexer": "ipython3",
   "version": "3.11.7"
  }
 },
 "nbformat": 4,
 "nbformat_minor": 5
}
