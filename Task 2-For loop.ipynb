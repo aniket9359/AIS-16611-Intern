{
 "cells": [
  {
   "cell_type": "code",
   "execution_count": null,
   "id": "5fa3008d-362f-49bf-886b-c6640cffb4bb",
   "metadata": {},
   "outputs": [],
   "source": [
    "# for loop\n",
    "#Explaination\n",
    "#A for loop is used for iterating over a sequence (that is either a list, a tuple, a dictionary, a set, or a string).\n",
    "#This is less like the for keyword in other programming languages, and works more like an iterator method\n",
    "#as found in other object-orientated programming languages.   \n",
    "#With the for loop we can execute a set of statements, once for each item in a list, tuple, set etc.\n",
    "#The for loop in Python is used to iterate over a sequence (like a list, tuple, or string) or other iterable objects."
   ]
  },
  {
   "cell_type": "code",
   "execution_count": 1,
   "id": "3eb51386-cefa-4153-9941-a997f86af617",
   "metadata": {},
   "outputs": [
    {
     "name": "stdout",
     "output_type": "stream",
     "text": [
      "apple\n",
      "banana\n",
      "cherry\n"
     ]
    }
   ],
   "source": [
    "#Examples\n",
    "#1\n",
    "fruits = [\"apple\", \"banana\", \"cherry\"]\n",
    "for x in fruits:\n",
    "  print(x)"
   ]
  },
  {
   "cell_type": "code",
   "execution_count": 2,
   "id": "76099250-b29e-4631-ab63-3ca97d9c31f5",
   "metadata": {},
   "outputs": [
    {
     "name": "stdout",
     "output_type": "stream",
     "text": [
      "1\n",
      "2\n",
      "3\n",
      "4\n"
     ]
    }
   ],
   "source": [
    "#2\n",
    "a=(1,2,3,4)\n",
    "for x in a:\n",
    "    print(x)"
   ]
  },
  {
   "cell_type": "code",
   "execution_count": 3,
   "id": "7d7940e4-8207-4d09-a776-0a21481473fb",
   "metadata": {},
   "outputs": [
    {
     "name": "stdout",
     "output_type": "stream",
     "text": [
      "a\n",
      "p\n",
      "p\n",
      "l\n",
      "e\n"
     ]
    }
   ],
   "source": [
    "#3\n",
    "for x in \"apple\":\n",
    "  print(x)"
   ]
  },
  {
   "cell_type": "code",
   "execution_count": 4,
   "id": "0e47a287-0349-4c79-a96a-f2dceb6e751f",
   "metadata": {},
   "outputs": [
    {
     "name": "stdout",
     "output_type": "stream",
     "text": [
      "2\n",
      "7\n",
      "3\n",
      "88\n",
      "65\n",
      "6\n"
     ]
    }
   ],
   "source": [
    "#4\n",
    "numbers=[2,7,3,88,65,6]\n",
    "for x in numbers:\n",
    "    print(x)"
   ]
  },
  {
   "cell_type": "code",
   "execution_count": 5,
   "id": "9d7d11f0-8905-4a05-8637-ee3502c3228a",
   "metadata": {},
   "outputs": [
    {
     "name": "stdout",
     "output_type": "stream",
     "text": [
      "1\n",
      "2\n",
      "3\n",
      "4\n",
      "5\n",
      "6\n",
      "7\n",
      "8\n",
      "9\n"
     ]
    }
   ],
   "source": [
    "#5\n",
    "for i in range(1,10):\n",
    "    print(i)"
   ]
  },
  {
   "cell_type": "code",
   "execution_count": 6,
   "id": "4024983c-2358-4c5a-8fdc-dd4f5f239ff3",
   "metadata": {},
   "outputs": [
    {
     "name": "stdout",
     "output_type": "stream",
     "text": [
      "1\n",
      "3\n",
      "5\n",
      "7\n",
      "9\n"
     ]
    }
   ],
   "source": [
    "#6\n",
    "for i in range(1,10,2):\n",
    "    print(i)"
   ]
  },
  {
   "cell_type": "code",
   "execution_count": 9,
   "id": "3d490203-d309-420f-845a-f2d50c35bd5d",
   "metadata": {},
   "outputs": [
    {
     "name": "stdout",
     "output_type": "stream",
     "text": [
      "1\n",
      "3\n",
      "6\n",
      "10\n",
      "15\n",
      "21\n",
      "28\n",
      "36\n",
      "45\n",
      "55\n",
      "66\n",
      "78\n",
      "91\n",
      "105\n",
      "120\n",
      "136\n",
      "153\n",
      "171\n",
      "190\n",
      "210\n"
     ]
    }
   ],
   "source": [
    "#7\n",
    "total=0\n",
    "for num in range(1,21):\n",
    "    total+=num\n",
    "    print(total)"
   ]
  },
  {
   "cell_type": "code",
   "execution_count": 10,
   "id": "e7513cef-d752-477d-849e-0fb060cd5285",
   "metadata": {},
   "outputs": [
    {
     "name": "stdout",
     "output_type": "stream",
     "text": [
      "2\n",
      "6\n",
      "24\n",
      "120\n"
     ]
    }
   ],
   "source": [
    "#8\n",
    "numbers=[2,3,4,5]\n",
    "result=1\n",
    "for num in numbers:\n",
    "    result*=num\n",
    "    print(result)"
   ]
  },
  {
   "cell_type": "markdown",
   "id": "92afae2b-7951-4bea-b24c-37ff86d900fe",
   "metadata": {},
   "source": [
    "#9\n",
    "a=[1,2,3,4,5,6,7]\n",
    "for total in a:\n",
    "    total*=2\n",
    "    print(total)"
   ]
  },
  {
   "cell_type": "code",
   "execution_count": 15,
   "id": "0a71a709-aa0d-4691-b8ff-f576593450c9",
   "metadata": {},
   "outputs": [
    {
     "name": "stdout",
     "output_type": "stream",
     "text": [
      "3\n",
      "0\n",
      "1\n",
      "6\n",
      "7\n",
      "4\n",
      "5\n"
     ]
    }
   ],
   "source": [
    "#10\n",
    "a=[1,2,3,4,5,6,7]\n",
    "for x in a:\n",
    "    x=2^x\n",
    "    print(x)"
   ]
  }
 ],
 "metadata": {
  "kernelspec": {
   "display_name": "Python 3 (ipykernel)",
   "language": "python",
   "name": "python3"
  },
  "language_info": {
   "codemirror_mode": {
    "name": "ipython",
    "version": 3
   },
   "file_extension": ".py",
   "mimetype": "text/x-python",
   "name": "python",
   "nbconvert_exporter": "python",
   "pygments_lexer": "ipython3",
   "version": "3.11.7"
  }
 },
 "nbformat": 4,
 "nbformat_minor": 5
}
