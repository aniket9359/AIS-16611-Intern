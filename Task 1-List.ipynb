{
 "cells": [
  {
   "cell_type": "code",
   "execution_count": 1,
   "id": "f972b081-23ac-4c6f-8e81-02f258fb942a",
   "metadata": {},
   "outputs": [
    {
     "data": {
      "text/plain": [
       "['college', 'aniket', 1, 2, 3]"
      ]
     },
     "execution_count": 1,
     "metadata": {},
     "output_type": "execute_result"
    }
   ],
   "source": [
    "# list creation\n",
    "list=[\"college\",\"aniket\",1,2,3]\n",
    "list"
   ]
  },
  {
   "cell_type": "code",
   "execution_count": 2,
   "id": "e61069bf-b22b-4a66-a985-b252eb84068c",
   "metadata": {},
   "outputs": [
    {
     "data": {
      "text/plain": [
       "list"
      ]
     },
     "execution_count": 2,
     "metadata": {},
     "output_type": "execute_result"
    }
   ],
   "source": [
    "type(list)"
   ]
  },
  {
   "cell_type": "code",
   "execution_count": 3,
   "id": "62bc628b-a3b1-4a42-8b16-8399b1ec2b6d",
   "metadata": {},
   "outputs": [
    {
     "data": {
      "text/plain": [
       "[]"
      ]
     },
     "execution_count": 3,
     "metadata": {},
     "output_type": "execute_result"
    }
   ],
   "source": [
    "#empty list\n",
    "l=[]\n",
    "l"
   ]
  },
  {
   "cell_type": "code",
   "execution_count": 4,
   "id": "c8b29098-38b1-4ac8-a6a4-f88d5a83295e",
   "metadata": {},
   "outputs": [
    {
     "data": {
      "text/plain": [
       "[11, 2, 3, 5, 66, 7]"
      ]
     },
     "execution_count": 4,
     "metadata": {},
     "output_type": "execute_result"
    }
   ],
   "source": [
    "#list of integer\n",
    "L1=[11,2,3,5,66,7]\n",
    "L1"
   ]
  },
  {
   "cell_type": "code",
   "execution_count": 5,
   "id": "d449ea3b-e09e-4c48-bd80-26e4844ccc83",
   "metadata": {},
   "outputs": [
    {
     "data": {
      "text/plain": [
       "list"
      ]
     },
     "execution_count": 5,
     "metadata": {},
     "output_type": "execute_result"
    }
   ],
   "source": [
    "type(L1)"
   ]
  },
  {
   "cell_type": "code",
   "execution_count": 6,
   "id": "759567f1-a16b-48c0-b1a4-71276a5f78cc",
   "metadata": {},
   "outputs": [
    {
     "data": {
      "text/plain": [
       "[['school', 1, 3], 8, ['name']]"
      ]
     },
     "execution_count": 6,
     "metadata": {},
     "output_type": "execute_result"
    }
   ],
   "source": [
    "#nested list\n",
    "L2=[[\"school\",1,3],8,[\"name\"]]\n",
    "L2"
   ]
  },
  {
   "cell_type": "code",
   "execution_count": 12,
   "id": "b349ae37-e8a8-4eb0-bff8-50bf5742ddff",
   "metadata": {},
   "outputs": [
    {
     "data": {
      "text/plain": [
       "2"
      ]
     },
     "execution_count": 12,
     "metadata": {},
     "output_type": "execute_result"
    }
   ],
   "source": [
    "#accessing items\n",
    "list[3]"
   ]
  },
  {
   "cell_type": "code",
   "execution_count": 13,
   "id": "55f5b40d-3260-456a-a4c2-4b845547f55b",
   "metadata": {},
   "outputs": [
    {
     "data": {
      "text/plain": [
       "1"
      ]
     },
     "execution_count": 13,
     "metadata": {},
     "output_type": "execute_result"
    }
   ],
   "source": [
    "list[-3]"
   ]
  },
  {
   "cell_type": "code",
   "execution_count": 14,
   "id": "5d66e9a1-db2f-47bd-aa71-8c4470613c6b",
   "metadata": {},
   "outputs": [
    {
     "data": {
      "text/plain": [
       "['college', 'aniket', 1, 2, 3]"
      ]
     },
     "execution_count": 14,
     "metadata": {},
     "output_type": "execute_result"
    }
   ],
   "source": [
    "list[:]"
   ]
  },
  {
   "cell_type": "code",
   "execution_count": 16,
   "id": "8ce6e65a-6def-4aba-81e6-275ca9bfe791",
   "metadata": {},
   "outputs": [
    {
     "data": {
      "text/plain": [
       "8"
      ]
     },
     "execution_count": 16,
     "metadata": {},
     "output_type": "execute_result"
    }
   ],
   "source": [
    "L3=[\"name\",[1,2,3,[6,8]]]\n",
    "L3[-1][3][-1]"
   ]
  },
  {
   "cell_type": "code",
   "execution_count": 20,
   "id": "abda7f69-24d6-4fc3-8ade-3c3e588fbe6f",
   "metadata": {},
   "outputs": [
    {
     "data": {
      "text/plain": [
       "[6, 8]"
      ]
     },
     "execution_count": 20,
     "metadata": {},
     "output_type": "execute_result"
    }
   ],
   "source": [
    "L3[1][3]"
   ]
  },
  {
   "cell_type": "code",
   "execution_count": 22,
   "id": "55dc54ee-f6fa-4512-9b10-fae112315e4c",
   "metadata": {},
   "outputs": [
    {
     "data": {
      "text/plain": [
       "[3, 4, 5]"
      ]
     },
     "execution_count": 22,
     "metadata": {},
     "output_type": "execute_result"
    }
   ],
   "source": [
    "#elements 2 to 5 #start exclude and include\n",
    "L4=[1,2,3,4,5,6,7]\n",
    "L4[2:5]"
   ]
  },
  {
   "cell_type": "code",
   "execution_count": 23,
   "id": "4c6218b1-3276-4dae-8e2d-02d2d6cea54c",
   "metadata": {},
   "outputs": [
    {
     "data": {
      "text/plain": [
       "[6, 7]"
      ]
     },
     "execution_count": 23,
     "metadata": {},
     "output_type": "execute_result"
    }
   ],
   "source": [
    "#elements 5 to end \n",
    "L4[5:]"
   ]
  },
  {
   "cell_type": "code",
   "execution_count": 26,
   "id": "e1ec61dd-9d17-4420-b556-2d2bb9cee4e6",
   "metadata": {},
   "outputs": [
    {
     "data": {
      "text/plain": [
       "[1, 2, 3, 4, 'aniket', 6, 7]"
      ]
     },
     "execution_count": 26,
     "metadata": {},
     "output_type": "execute_result"
    }
   ],
   "source": [
    "#change the value\n",
    "L4[4]=\"aniket\"\n",
    "L4"
   ]
  },
  {
   "cell_type": "code",
   "execution_count": 27,
   "id": "801f59f1-7f7b-4a8c-8a97-f4a53d9779f9",
   "metadata": {},
   "outputs": [
    {
     "data": {
      "text/plain": [
       "7"
      ]
     },
     "execution_count": 27,
     "metadata": {},
     "output_type": "execute_result"
    }
   ],
   "source": [
    "len(L4)"
   ]
  },
  {
   "cell_type": "code",
   "execution_count": 38,
   "id": "8e9f58c2-980d-49ea-b12e-60f6a482f137",
   "metadata": {},
   "outputs": [
    {
     "data": {
      "text/plain": [
       "[1, 2, 3, 'aniket']"
      ]
     },
     "execution_count": 38,
     "metadata": {},
     "output_type": "execute_result"
    }
   ],
   "source": [
    "L5=[1,2,3,\"aniket\"]\n",
    "L5"
   ]
  },
  {
   "cell_type": "code",
   "execution_count": 39,
   "id": "a54232d3-eff8-4368-b276-546813df7cc2",
   "metadata": {},
   "outputs": [
    {
     "data": {
      "text/plain": [
       "[1, 2, 3, 'aniket', 'happy']"
      ]
     },
     "execution_count": 39,
     "metadata": {},
     "output_type": "execute_result"
    }
   ],
   "source": [
    "#methods\n",
    "#1.append\n",
    "L5.append(\"happy\")\n",
    "L5"
   ]
  },
  {
   "cell_type": "code",
   "execution_count": 42,
   "id": "404a62b8-41de-44db-98a4-9e179052f879",
   "metadata": {},
   "outputs": [
    {
     "data": {
      "text/plain": [
       "[0, 1, 2, 3, 6, 8, 9]"
      ]
     },
     "execution_count": 42,
     "metadata": {},
     "output_type": "execute_result"
    }
   ],
   "source": [
    "#2 sort\n",
    "L6=[8,2,6,9,0,1,3]\n",
    "L6.sort()\n",
    "L6"
   ]
  },
  {
   "cell_type": "code",
   "execution_count": 49,
   "id": "0372ee11-192c-48fd-b847-4398dd927435",
   "metadata": {},
   "outputs": [
    {
     "data": {
      "text/plain": [
       "1"
      ]
     },
     "execution_count": 49,
     "metadata": {},
     "output_type": "execute_result"
    }
   ],
   "source": [
    "#3 count\n",
    "L6.count(2)"
   ]
  },
  {
   "cell_type": "code",
   "execution_count": 54,
   "id": "b0727d5f-d799-4f71-8e40-3f52f439cbec",
   "metadata": {},
   "outputs": [
    {
     "data": {
      "text/plain": [
       "[1, 3, 6, 8, 9]"
      ]
     },
     "execution_count": 54,
     "metadata": {},
     "output_type": "execute_result"
    }
   ],
   "source": [
    "#4 remove\n",
    "L6.remove(0)\n",
    "L6"
   ]
  },
  {
   "cell_type": "code",
   "execution_count": 58,
   "id": "cb7820da-b6df-49c1-82ea-32c8eff8ee94",
   "metadata": {},
   "outputs": [
    {
     "data": {
      "text/plain": [
       "5"
      ]
     },
     "execution_count": 58,
     "metadata": {},
     "output_type": "execute_result"
    }
   ],
   "source": [
    "#5 pop\n",
    "L7=[2,1,5,8,4,9]\n",
    "L7.pop(2)"
   ]
  },
  {
   "cell_type": "code",
   "execution_count": 61,
   "id": "d9798298-12ca-4722-971d-630f694bd703",
   "metadata": {},
   "outputs": [
    {
     "data": {
      "text/plain": [
       "[]"
      ]
     },
     "execution_count": 61,
     "metadata": {},
     "output_type": "execute_result"
    }
   ],
   "source": [
    "#6 clear\n",
    "L7.clear()\n",
    "L7"
   ]
  },
  {
   "cell_type": "code",
   "execution_count": 64,
   "id": "b8c8e348-f97c-4dba-a239-e1401f2d16da",
   "metadata": {},
   "outputs": [
    {
     "data": {
      "text/plain": [
       "[11, 2, 3, 5, 66, 7]"
      ]
     },
     "execution_count": 64,
     "metadata": {},
     "output_type": "execute_result"
    }
   ],
   "source": [
    "#7copy\n",
    "x=L1.copy()\n",
    "x"
   ]
  },
  {
   "cell_type": "code",
   "execution_count": 65,
   "id": "c6dfcae8-0822-4004-b3b7-cb6bbc8a859f",
   "metadata": {},
   "outputs": [
    {
     "data": {
      "text/plain": [
       "[11, 2, 3, 5, 66, 7]"
      ]
     },
     "execution_count": 65,
     "metadata": {},
     "output_type": "execute_result"
    }
   ],
   "source": [
    "#8reverse\n",
    "L1.reverse\n",
    "L1"
   ]
  },
  {
   "cell_type": "code",
   "execution_count": 74,
   "id": "a9a1eb5a-eb85-456d-9def-f59d3281390e",
   "metadata": {},
   "outputs": [
    {
     "data": {
      "text/plain": [
       "2"
      ]
     },
     "execution_count": 74,
     "metadata": {},
     "output_type": "execute_result"
    }
   ],
   "source": [
    "list.index(1)"
   ]
  },
  {
   "cell_type": "code",
   "execution_count": 78,
   "id": "e0a3ab20-97da-4f50-a781-283c150622a3",
   "metadata": {},
   "outputs": [
    {
     "data": {
      "text/plain": [
       "2206727296640"
      ]
     },
     "execution_count": 78,
     "metadata": {},
     "output_type": "execute_result"
    }
   ],
   "source": [
    "id(L1)"
   ]
  },
  {
   "cell_type": "code",
   "execution_count": 81,
   "id": "67e23a12-e157-43d9-bb48-1478274deba9",
   "metadata": {},
   "outputs": [
    {
     "data": {
      "text/plain": [
       "['banana', 'mango', 'thar', 'fortuner']"
      ]
     },
     "execution_count": 81,
     "metadata": {},
     "output_type": "execute_result"
    }
   ],
   "source": [
    "#extend\n",
    "fruits=[\"banana\",\"mango\"]\n",
    "cars=[\"thar\",\"fortuner\"]\n",
    "fruits.extend(cars)\n",
    "fruits"
   ]
  },
  {
   "cell_type": "markdown",
   "id": "5df4ecd4-ccf8-42b6-8d8b-9851e160680c",
   "metadata": {},
   "source": []
  },
  {
   "cell_type": "code",
   "execution_count": null,
   "id": "321a59a0-b2af-47e1-a549-4a179b79c6c8",
   "metadata": {},
   "outputs": [],
   "source": []
  }
 ],
 "metadata": {
  "kernelspec": {
   "display_name": "Python 3 (ipykernel)",
   "language": "python",
   "name": "python3"
  },
  "language_info": {
   "codemirror_mode": {
    "name": "ipython",
    "version": 3
   },
   "file_extension": ".py",
   "mimetype": "text/x-python",
   "name": "python",
   "nbconvert_exporter": "python",
   "pygments_lexer": "ipython3",
   "version": "3.11.7"
  }
 },
 "nbformat": 4,
 "nbformat_minor": 5
}
