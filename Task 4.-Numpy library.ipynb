{
 "cells": [
  {
   "cell_type": "code",
   "execution_count": 1,
   "id": "ca7045f8-05f1-484b-a0f5-3182729fc4f7",
   "metadata": {},
   "outputs": [
    {
     "name": "stdout",
     "output_type": "stream",
     "text": [
      "[5 6]\n"
     ]
    }
   ],
   "source": [
    "#negetive slicing\n",
    "#slice from the index 3 from the end to index 1 from the end\n",
    "import numpy as np\n",
    "arr=np.array([1,2,3,4,5,6,7])\n",
    "print(arr[-3:-1])"
   ]
  },
  {
   "cell_type": "code",
   "execution_count": 7,
   "id": "e53fcb8e-53e9-4200-b6e5-6baa7d96f212",
   "metadata": {},
   "outputs": [
    {
     "name": "stdout",
     "output_type": "stream",
     "text": [
      "[2 4]\n"
     ]
    }
   ],
   "source": [
    "#use the step value to determine step of slicing\n",
    "#Return every other element from index 1 to 5\n",
    "import numpy as np\n",
    "arr=np.array([1,2,3,4,5,6,7])\n",
    "print(arr[1:5:2])"
   ]
  },
  {
   "cell_type": "code",
   "execution_count": 11,
   "id": "29ffbef3-2c24-4c03-b392-c59aeacc9d56",
   "metadata": {},
   "outputs": [
    {
     "name": "stdout",
     "output_type": "stream",
     "text": [
      "[1 3 5 7]\n"
     ]
    }
   ],
   "source": [
    "#return every other element\n",
    "import numpy as np\n",
    "arr=np.array([1,2,3,4,5,6,7])\n",
    "print(arr[::2])"
   ]
  },
  {
   "cell_type": "code",
   "execution_count": 19,
   "id": "93c5ef99-a4e3-43de-a09a-981a07665647",
   "metadata": {},
   "outputs": [
    {
     "name": "stdout",
     "output_type": "stream",
     "text": [
      "[6 7 8 9]\n"
     ]
    }
   ],
   "source": [
    "#slicing 2D arrays\n",
    "#from the second element ,slice elements from index 0 to index 4(not included)\n",
    "import numpy as np\n",
    "arr=np.array([[1,2,3,4,5],[6,7,8,9,10]])\n",
    "print(arr[1,0:4])"
   ]
  },
  {
   "cell_type": "code",
   "execution_count": 23,
   "id": "a7dc55b0-1031-4000-af95-de2660a25945",
   "metadata": {},
   "outputs": [
    {
     "name": "stdout",
     "output_type": "stream",
     "text": [
      "[3 8]\n"
     ]
    }
   ],
   "source": [
    "#from both elements ,return to index 2\n",
    "import numpy as np\n",
    "arr=np.array([[1,2,3,4,5],[6,7,8,9,10]])\n",
    "print(arr[0:2,2])"
   ]
  },
  {
   "cell_type": "code",
   "execution_count": 25,
   "id": "11c2b128-b910-4304-9a6b-a9bd6631060a",
   "metadata": {},
   "outputs": [
    {
     "name": "stdout",
     "output_type": "stream",
     "text": [
      "[[2 3 4]\n",
      " [7 8 9]]\n"
     ]
    }
   ],
   "source": [
    "#from both elements,slice index 1 to index 4,this will return 2D arrays\n",
    "import numpy as np\n",
    "arr=np.array([[1,2,3,4,5],[6,7,8,9,10]])\n",
    "print(arr[0:2,1:4])"
   ]
  },
  {
   "cell_type": "code",
   "execution_count": 27,
   "id": "4948c571-9b49-493c-b54d-192343c80cd1",
   "metadata": {},
   "outputs": [
    {
     "name": "stdout",
     "output_type": "stream",
     "text": [
      "int32\n"
     ]
    }
   ],
   "source": [
    "#checking the data type of array\n",
    "import numpy as np\n",
    "arr=np.array([1,2,3,4,5,6])\n",
    "print(arr.dtype)"
   ]
  },
  {
   "cell_type": "code",
   "execution_count": 29,
   "id": "4b3f47e2-eb8f-47b1-8589-1143d7b22c4f",
   "metadata": {},
   "outputs": [
    {
     "name": "stdout",
     "output_type": "stream",
     "text": [
      "<U6\n"
     ]
    }
   ],
   "source": [
    "#get the data type of array containing string\n",
    "import numpy as np\n",
    "arr=np.array([\"thar\",\"BMW\",\"Bullet\"])\n",
    "print(arr.dtype)"
   ]
  },
  {
   "cell_type": "code",
   "execution_count": 37,
   "id": "cde919fb-3da3-4b5b-af0c-f95e37148d2c",
   "metadata": {},
   "outputs": [
    {
     "name": "stdout",
     "output_type": "stream",
     "text": [
      "[b'1' b'2' b'3' b'4']\n",
      "|S1\n"
     ]
    }
   ],
   "source": [
    "#create an array with data type string \n",
    "import numpy as np\n",
    "arr=np.array([1,2,3,4],dtype=\"S\")\n",
    "print(arr)\n",
    "print(arr.dtype)"
   ]
  },
  {
   "cell_type": "code",
   "execution_count": 41,
   "id": "acc0b804-7ba6-4897-a49f-bc2c88aea913",
   "metadata": {},
   "outputs": [
    {
     "name": "stdout",
     "output_type": "stream",
     "text": [
      "[1 2 3 4]\n",
      "int32\n"
     ]
    }
   ],
   "source": [
    "#create an array with data type 4 byte integer\n",
    "import numpy as np\n",
    "arr=np.array([1,2,3,4],dtype=\"i4\")\n",
    "print(arr)\n",
    "print(arr.dtype)"
   ]
  },
  {
   "cell_type": "code",
   "execution_count": 43,
   "id": "290335b9-fde3-4e2f-b941-fe234bb7fd24",
   "metadata": {},
   "outputs": [
    {
     "name": "stdout",
     "output_type": "stream",
     "text": [
      "[1 1 1]\n",
      "int32\n"
     ]
    }
   ],
   "source": [
    "# change the data type from float to integer by using\"i\"as parameter value\n",
    "import numpy as np\n",
    "arr=np.array([1.1,1.2,1.3])\n",
    "newarr=arr.astype('i')\n",
    "print(newarr)\n",
    "print(newarr.dtype)"
   ]
  },
  {
   "cell_type": "code",
   "execution_count": 45,
   "id": "31e9e671-0dbd-4c6d-acdc-cb0b48e96a56",
   "metadata": {},
   "outputs": [
    {
     "name": "stdout",
     "output_type": "stream",
     "text": [
      "[ True  True  True  True]\n",
      "bool\n"
     ]
    }
   ],
   "source": [
    "#chnge data type integer to boolean\n",
    "import numpy as np\n",
    "arr=np.array([1,2,3,4])\n",
    "newarr=arr.astype(bool)\n",
    "print(newarr)\n",
    "print(newarr.dtype)"
   ]
  },
  {
   "cell_type": "code",
   "execution_count": 47,
   "id": "d629fdd0-3612-4b51-8dfe-5c0cbe2ba5b1",
   "metadata": {},
   "outputs": [
    {
     "name": "stdout",
     "output_type": "stream",
     "text": [
      "[16  2  3  4  5]\n",
      "[1 2 3 4 5]\n"
     ]
    }
   ],
   "source": [
    "#make a copy,change the original array ,display both arrays\n",
    "import numpy as np\n",
    "arr=np.array([1,2,3,4,5])\n",
    "x=arr.copy()\n",
    "arr[0]=16\n",
    "print(arr)\n",
    "print(x)"
   ]
  },
  {
   "cell_type": "code",
   "execution_count": 49,
   "id": "b4eda893-565e-40e9-ad34-1919c77f0b20",
   "metadata": {},
   "outputs": [
    {
     "name": "stdout",
     "output_type": "stream",
     "text": [
      "[ 1 10  3  4]\n",
      "[ 1 10  3  4]\n"
     ]
    }
   ],
   "source": [
    "#make a view ,change the original array,display both arrays\n",
    "import numpy as np\n",
    "arr=np.array([1,2,3,4])\n",
    "x=arr.view()\n",
    "arr[1]=10\n",
    "print(arr)\n",
    "print(x)"
   ]
  }
 ],
 "metadata": {
  "kernelspec": {
   "display_name": "Python 3 (ipykernel)",
   "language": "python",
   "name": "python3"
  },
  "language_info": {
   "codemirror_mode": {
    "name": "ipython",
    "version": 3
   },
   "file_extension": ".py",
   "mimetype": "text/x-python",
   "name": "python",
   "nbconvert_exporter": "python",
   "pygments_lexer": "ipython3",
   "version": "3.11.7"
  }
 },
 "nbformat": 4,
 "nbformat_minor": 5
}
