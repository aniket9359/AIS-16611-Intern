{
 "cells": [
  {
   "cell_type": "code",
   "execution_count": null,
   "id": "45bce5a2-aa28-4740-8ce2-480bfdde99a0",
   "metadata": {},
   "outputs": [],
   "source": [
    "#Pass statment\n",
    "#Explaination-The “pass” statement is a placeholder in Python code that signifies that a particular code block is empty or yet to be written. \n",
    "#It is used to suppress errors and prevent unexpected behavior,and it is often employed in functions, classes, loops, and conditional statements."
   ]
  },
  {
   "cell_type": "code",
   "execution_count": 9,
   "id": "f29d0f4e-bfa0-4cb8-a48e-8a2f0e6620a7",
   "metadata": {},
   "outputs": [],
   "source": [
    "#Example\n",
    "#1\n",
    "for x in [0, 1, 2]:\n",
    "  pass"
   ]
  },
  {
   "cell_type": "code",
   "execution_count": 11,
   "id": "baebe865-f6fd-444c-a68a-3f664b350084",
   "metadata": {},
   "outputs": [],
   "source": [
    "#2\n",
    "a= 33\n",
    "b = 200\n",
    "\n",
    "if b > a:\n",
    "  pass"
   ]
  },
  {
   "cell_type": "code",
   "execution_count": 43,
   "id": "7bd266a4-1b61-4e78-bfb3-da7daa2dc343",
   "metadata": {},
   "outputs": [],
   "source": [
    "#3\n",
    "A=13\n",
    "B=12\n",
    "if A>B:\n",
    "    pass"
   ]
  },
  {
   "cell_type": "code",
   "execution_count": 45,
   "id": "eaf9b0dd-a515-4cfe-a090-6169f628d364",
   "metadata": {},
   "outputs": [],
   "source": [
    "#4\n",
    "class Person:\n",
    "  pass"
   ]
  }
 ],
 "metadata": {
  "kernelspec": {
   "display_name": "Python 3 (ipykernel)",
   "language": "python",
   "name": "python3"
  },
  "language_info": {
   "codemirror_mode": {
    "name": "ipython",
    "version": 3
   },
   "file_extension": ".py",
   "mimetype": "text/x-python",
   "name": "python",
   "nbconvert_exporter": "python",
   "pygments_lexer": "ipython3",
   "version": "3.11.7"
  }
 },
 "nbformat": 4,
 "nbformat_minor": 5
}
