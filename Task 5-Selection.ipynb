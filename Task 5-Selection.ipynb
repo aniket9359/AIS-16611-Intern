{
 "cells": [
  {
   "cell_type": "code",
   "execution_count": 6,
   "id": "f064a743-8267-415f-8366-3ed202725ecc",
   "metadata": {},
   "outputs": [
    {
     "name": "stdout",
     "output_type": "stream",
     "text": [
      "0    25\n",
      "1    30\n",
      "2    35\n",
      "3    40\n",
      "Name: Age, dtype: int64\n"
     ]
    }
   ],
   "source": [
    "#Selection\n",
    "import pandas as pd\n",
    "# Create a sample DataFrame\n",
    "data = {'Name': ['Rutuja', 'Ruturaj', 'Shivam', 'Ajinkya'],\n",
    "        'Age': [25, 30, 35, 40],\n",
    "        'Gender': ['Female', 'Male', 'Male', 'Male']}\n",
    "df = pd.DataFrame(data)\n",
    "# Selecting a single column\n",
    "ages = df['Age']\n",
    "print(ages)"
   ]
  },
  {
   "cell_type": "code",
   "execution_count": 8,
   "id": "89d37131-e4b0-43a3-9907-095e97a45a43",
   "metadata": {},
   "outputs": [
    {
     "name": "stdout",
     "output_type": "stream",
     "text": [
      "      Name  Gender\n",
      "0   Rutuja  Female\n",
      "1  Ruturaj    Male\n",
      "2   Shivam    Male\n",
      "3  Ajinkya    Male\n"
     ]
    }
   ],
   "source": [
    "# Selecting multiple columns\n",
    "subset = df[['Name', 'Gender']]\n",
    "print(subset)"
   ]
  },
  {
   "cell_type": "code",
   "execution_count": 10,
   "id": "bb193189-f561-482e-9142-6c6a9d336a15",
   "metadata": {},
   "outputs": [
    {
     "name": "stdout",
     "output_type": "stream",
     "text": [
      "      Name  Age Gender\n",
      "1  Ruturaj   30   Male\n",
      "2   Shivam   35   Male\n",
      "3  Ajinkya   40   Male\n"
     ]
    }
   ],
   "source": [
    "# Selecting rows based on a condition\n",
    "male_records = df[df['Gender']=='Male']\n",
    "print(male_records)"
   ]
  },
  {
   "cell_type": "code",
   "execution_count": 12,
   "id": "e993a14e-aa24-42c8-814b-d0e68da49cb9",
   "metadata": {},
   "outputs": [
    {
     "name": "stdout",
     "output_type": "stream",
     "text": [
      "      Name  Age\n",
      "1  Ruturaj   30\n",
      "2   Shivam   35\n"
     ]
    }
   ],
   "source": [
    "subset_loc = df.loc[1:2, ['Name', 'Age']]\n",
    "print(subset_loc)"
   ]
  },
  {
   "cell_type": "code",
   "execution_count": 14,
   "id": "1f8f8c81-a710-4931-8488-f2f1daa46cc2",
   "metadata": {},
   "outputs": [
    {
     "name": "stdout",
     "output_type": "stream",
     "text": [
      "      Name  Age\n",
      "1  Ruturaj   30\n",
      "2   Shivam   35\n"
     ]
    }
   ],
   "source": [
    "subset_iloc = df.iloc[1:3, [0, 1]]\n",
    "print(subset_iloc)"
   ]
  },
  {
   "cell_type": "code",
   "execution_count": 16,
   "id": "47a8534b-690b-4157-88ff-75aa987e371d",
   "metadata": {},
   "outputs": [
    {
     "name": "stdout",
     "output_type": "stream",
     "text": [
      "      Name  Age Gender\n",
      "2   Shivam   35   Male\n",
      "3  Ajinkya   40   Male\n"
     ]
    }
   ],
   "source": [
    "#Condition selection\n",
    "selected_rows=df[df[\"Age\"]>30]\n",
    "print(selected_rows)"
   ]
  },
  {
   "cell_type": "code",
   "execution_count": 18,
   "id": "82e1a0ce-f762-4f1c-b719-23402004593c",
   "metadata": {},
   "outputs": [
    {
     "data": {
      "text/plain": [
       "Name      Rutuja\n",
       "Age           25\n",
       "Gender    Female\n",
       "Name: 0, dtype: object"
      ]
     },
     "execution_count": 18,
     "metadata": {},
     "output_type": "execute_result"
    }
   ],
   "source": [
    "selected_col=df.iloc[0]#Selecting row\n",
    "selected_col"
   ]
  },
  {
   "cell_type": "code",
   "execution_count": 20,
   "id": "f4840be0-224b-4c4d-b59d-595a62a9c10e",
   "metadata": {},
   "outputs": [
    {
     "data": {
      "text/plain": [
       "Age         40\n",
       "Gender    Male\n",
       "Name: Ajinkya, dtype: object"
      ]
     },
     "execution_count": 20,
     "metadata": {},
     "output_type": "execute_result"
    }
   ],
   "source": [
    "Ajinkya=df.set_index(\"Name\")\n",
    "row=Ajinkya.loc[\"Ajinkya\"]\n",
    "row"
   ]
  },
  {
   "cell_type": "code",
   "execution_count": 22,
   "id": "65586f25-26bb-4569-8699-7d9b175b0bad",
   "metadata": {},
   "outputs": [
    {
     "name": "stdout",
     "output_type": "stream",
     "text": [
      "      Name  Age  Gender\n",
      "0   Rutuja   25  Female\n",
      "1  Ruturaj   30    male\n",
      "2   Shivam   35    Male\n",
      "3  Ajinkya   40    Male\n"
     ]
    }
   ],
   "source": [
    "import pandas as pd\n",
    "data = {'Name': ['Rutuja', 'Ruturaj', 'Shivam', 'Ajinkya'],\n",
    "        'Age': [25, 30, 35, 40],\n",
    "        }\n",
    "\n",
    "df = pd.DataFrame(data)\n",
    "df[\"Gender\"]=[\"Female\",\"male\",\"Male\",\"Male\"]\n",
    "print(df)"
   ]
  },
  {
   "cell_type": "code",
   "execution_count": 24,
   "id": "bc2e5903-bd86-4ebe-b14b-5ee903919c08",
   "metadata": {},
   "outputs": [
    {
     "name": "stdout",
     "output_type": "stream",
     "text": [
      "      Name  Age\n",
      "0   Rutuja   25\n",
      "1  Ruturaj   30\n",
      "2   Shivam   35\n",
      "3  Ajinkya   40\n"
     ]
    }
   ],
   "source": [
    "df.drop(\"Gender\",axis=1,inplace=True)\n",
    "print(df)"
   ]
  },
  {
   "cell_type": "code",
   "execution_count": 28,
   "id": "877360d0-d09c-412f-ac95-071134fc063f",
   "metadata": {},
   "outputs": [
    {
     "name": "stdout",
     "output_type": "stream",
     "text": [
      "      Name  Age\n",
      "0   Rutuja   27\n",
      "1  Ruturaj   22\n",
      "2   Shivam   44\n",
      "3  Ajinkya   32\n"
     ]
    }
   ],
   "source": [
    "df[\"Age\"]=[27,22,44,32]\n",
    "print(df)"
   ]
  },
  {
   "cell_type": "code",
   "execution_count": 30,
   "id": "0f4d8f61-7036-406c-bccd-e0ec9e0d93ac",
   "metadata": {},
   "outputs": [
    {
     "name": "stdout",
     "output_type": "stream",
     "text": [
      "         Age\n",
      "Name        \n",
      "Rutuja    25\n",
      "Ruturaj   30\n",
      "Shivam    35\n"
     ]
    }
   ],
   "source": [
    "import pandas as pd\n",
    "\n",
    "# Create a sample DataFrame\n",
    "data = {'Name': ['Rutuja', 'Ruturaj', 'Shivam'],\n",
    "        'Age': [25, 30, 35]}\n",
    "df = pd.DataFrame(data)\n",
    "# Set 'Name' column as the index\n",
    "df.set_index('Name', inplace=True)#Gives \"Name\" an index\n",
    "print(df)"
   ]
  },
  {
   "cell_type": "code",
   "execution_count": 32,
   "id": "d5ae2c65-f2a0-4433-81cf-32dfcf9d5a85",
   "metadata": {},
   "outputs": [
    {
     "name": "stdout",
     "output_type": "stream",
     "text": [
      "      Name  Age\n",
      "0   Rutuja   25\n",
      "1  Ruturaj   30\n",
      "2   Shivam   35\n"
     ]
    }
   ],
   "source": [
    "#Remove index\n",
    "df.reset_index(inplace=True)\n",
    "print(df)"
   ]
  },
  {
   "cell_type": "code",
   "execution_count": 40,
   "id": "6e389adf-80ff-485f-9a49-f702bd140235",
   "metadata": {},
   "outputs": [
    {
     "name": "stdout",
     "output_type": "stream",
     "text": [
      "   A  B   C  D   E         F        G\n",
      "0  2  1   3  1   2  2.000000        2\n",
      "1  4  3   7  1  12  1.333333       64\n",
      "2  6  5  11  1  30  1.200000     7776\n",
      "3  8  7  15  1  56  1.142857  2097152\n"
     ]
    }
   ],
   "source": [
    "import pandas as pd\n",
    "\n",
    "# Create a sample DataFrame\n",
    "data = {'A': [2, 4, 6, 8],\n",
    "        'B': [1, 3, 5, 7]}\n",
    "\n",
    "df = pd.DataFrame(data)\n",
    "\n",
    "# Perform arithmetic operations between columns\n",
    "# Addition\n",
    "df['C'] = df['A'] + df['B']\n",
    "\n",
    "# Subtraction\n",
    "df['D'] = df['A'] - df['B']\n",
    "\n",
    "# Multiplication\n",
    "df['E'] = df['A'] * df['B']\n",
    "\n",
    "# Division\n",
    "df['F'] = df['A'] / df['B']\n",
    "\n",
    "# Exponentiation\n",
    "df['G'] = df['A'] ** df['B']\n",
    "\n",
    "print(df)"
   ]
  },
  {
   "cell_type": "markdown",
   "id": "f771da83-1586-41df-a60c-c2d244c91636",
   "metadata": {},
   "source": []
  }
 ],
 "metadata": {
  "kernelspec": {
   "display_name": "Python 3 (ipykernel)",
   "language": "python",
   "name": "python3"
  },
  "language_info": {
   "codemirror_mode": {
    "name": "ipython",
    "version": 3
   },
   "file_extension": ".py",
   "mimetype": "text/x-python",
   "name": "python",
   "nbconvert_exporter": "python",
   "pygments_lexer": "ipython3",
   "version": "3.11.7"
  }
 },
 "nbformat": 4,
 "nbformat_minor": 5
}
