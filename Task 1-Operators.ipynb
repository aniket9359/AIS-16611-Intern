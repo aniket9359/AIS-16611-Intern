{
 "cells": [
  {
   "cell_type": "code",
   "execution_count": 1,
   "id": "c849ad29-ba06-4c82-a1d6-691776814744",
   "metadata": {},
   "outputs": [
    {
     "data": {
      "text/plain": [
       "14"
      ]
     },
     "execution_count": 1,
     "metadata": {},
     "output_type": "execute_result"
    }
   ],
   "source": [
    "#operators in python\n",
    "#1.Arithmetic\n",
    "12+2"
   ]
  },
  {
   "cell_type": "code",
   "execution_count": 2,
   "id": "e9e630ef-1f76-41fc-92ab-624b15b1b77f",
   "metadata": {},
   "outputs": [
    {
     "data": {
      "text/plain": [
       "10"
      ]
     },
     "execution_count": 2,
     "metadata": {},
     "output_type": "execute_result"
    }
   ],
   "source": [
    "12-2"
   ]
  },
  {
   "cell_type": "code",
   "execution_count": 3,
   "id": "e8005aeb-8875-4fdc-a082-d65549155d32",
   "metadata": {},
   "outputs": [
    {
     "data": {
      "text/plain": [
       "6.0"
      ]
     },
     "execution_count": 3,
     "metadata": {},
     "output_type": "execute_result"
    }
   ],
   "source": [
    "12/2"
   ]
  },
  {
   "cell_type": "code",
   "execution_count": 4,
   "id": "f90d0bf7-4543-4b7c-9f2e-bd086f7fbce8",
   "metadata": {},
   "outputs": [
    {
     "data": {
      "text/plain": [
       "144"
      ]
     },
     "execution_count": 4,
     "metadata": {},
     "output_type": "execute_result"
    }
   ],
   "source": [
    "12**2"
   ]
  },
  {
   "cell_type": "code",
   "execution_count": 5,
   "id": "eb68d343-de60-4174-8ecd-b0ef8ae859c8",
   "metadata": {},
   "outputs": [
    {
     "data": {
      "text/plain": [
       "1"
      ]
     },
     "execution_count": 5,
     "metadata": {},
     "output_type": "execute_result"
    }
   ],
   "source": [
    "10%3"
   ]
  },
  {
   "cell_type": "code",
   "execution_count": 6,
   "id": "57b174f4-7dff-4230-ae70-3886f75ff568",
   "metadata": {},
   "outputs": [
    {
     "data": {
      "text/plain": [
       "2"
      ]
     },
     "execution_count": 6,
     "metadata": {},
     "output_type": "execute_result"
    }
   ],
   "source": [
    "#2 Assignment\n",
    "x=2\n",
    "x"
   ]
  },
  {
   "cell_type": "code",
   "execution_count": 7,
   "id": "de280624-002b-45cd-a864-ced147d08480",
   "metadata": {},
   "outputs": [
    {
     "data": {
      "text/plain": [
       "7"
      ]
     },
     "execution_count": 7,
     "metadata": {},
     "output_type": "execute_result"
    }
   ],
   "source": [
    "x+=5\n",
    "x"
   ]
  },
  {
   "cell_type": "code",
   "execution_count": 8,
   "id": "9d421d91-dc34-47a2-8644-81a37377eaf8",
   "metadata": {},
   "outputs": [
    {
     "data": {
      "text/plain": [
       "4"
      ]
     },
     "execution_count": 8,
     "metadata": {},
     "output_type": "execute_result"
    }
   ],
   "source": [
    "x-=3\n",
    "x"
   ]
  },
  {
   "cell_type": "code",
   "execution_count": 10,
   "id": "48fd3370-4d0d-4950-9a1b-d2a54925ffb9",
   "metadata": {},
   "outputs": [
    {
     "data": {
      "text/plain": [
       "36"
      ]
     },
     "execution_count": 10,
     "metadata": {},
     "output_type": "execute_result"
    }
   ],
   "source": [
    "x*=3\n",
    "x"
   ]
  },
  {
   "cell_type": "code",
   "execution_count": 11,
   "id": "0ed43598-017f-4361-b710-52683c8bedf2",
   "metadata": {},
   "outputs": [
    {
     "data": {
      "text/plain": [
       "0"
      ]
     },
     "execution_count": 11,
     "metadata": {},
     "output_type": "execute_result"
    }
   ],
   "source": [
    "x&=2\n",
    "x"
   ]
  },
  {
   "cell_type": "code",
   "execution_count": 12,
   "id": "e6fa93eb-a4b1-4800-b25e-a4cd3ff68f62",
   "metadata": {},
   "outputs": [
    {
     "data": {
      "text/plain": [
       "False"
      ]
     },
     "execution_count": 12,
     "metadata": {},
     "output_type": "execute_result"
    }
   ],
   "source": [
    "y=3\n",
    "x==y"
   ]
  },
  {
   "cell_type": "code",
   "execution_count": 13,
   "id": "75c44bf4-21a3-4e73-bb48-10f1636da01a",
   "metadata": {},
   "outputs": [
    {
     "data": {
      "text/plain": [
       "False"
      ]
     },
     "execution_count": 13,
     "metadata": {},
     "output_type": "execute_result"
    }
   ],
   "source": [
    "x>y"
   ]
  },
  {
   "cell_type": "code",
   "execution_count": 14,
   "id": "62275d9f-faf6-48f8-a3f7-547a842e2801",
   "metadata": {},
   "outputs": [
    {
     "data": {
      "text/plain": [
       "True"
      ]
     },
     "execution_count": 14,
     "metadata": {},
     "output_type": "execute_result"
    }
   ],
   "source": [
    "x<y"
   ]
  },
  {
   "cell_type": "code",
   "execution_count": 15,
   "id": "c0b41bad-38d6-407c-bfdc-606a5875935f",
   "metadata": {},
   "outputs": [
    {
     "data": {
      "text/plain": [
       "True"
      ]
     },
     "execution_count": 15,
     "metadata": {},
     "output_type": "execute_result"
    }
   ],
   "source": [
    "x<=y"
   ]
  },
  {
   "cell_type": "code",
   "execution_count": 52,
   "id": "2fb35984-1e07-4da1-84b9-18ba2e39065f",
   "metadata": {},
   "outputs": [
    {
     "data": {
      "text/plain": [
       "True"
      ]
     },
     "execution_count": 52,
     "metadata": {},
     "output_type": "execute_result"
    }
   ],
   "source": [
    "#3 Logical operators\n",
    "x<4 and x<3"
   ]
  },
  {
   "cell_type": "code",
   "execution_count": 18,
   "id": "f9a21941-8d20-4f09-a8b6-7b9b23fe2299",
   "metadata": {},
   "outputs": [
    {
     "data": {
      "text/plain": [
       "True"
      ]
     },
     "execution_count": 18,
     "metadata": {},
     "output_type": "execute_result"
    }
   ],
   "source": [
    "x<4 and x<1"
   ]
  },
  {
   "cell_type": "code",
   "execution_count": 19,
   "id": "e6859952-135f-4972-baef-82543bd67568",
   "metadata": {},
   "outputs": [
    {
     "data": {
      "text/plain": [
       "True"
      ]
     },
     "execution_count": 19,
     "metadata": {},
     "output_type": "execute_result"
    }
   ],
   "source": [
    "x<4 or x<1"
   ]
  },
  {
   "cell_type": "code",
   "execution_count": 20,
   "id": "9ebb2cc8-4dc7-4057-8e46-64565b5fdfdf",
   "metadata": {},
   "outputs": [
    {
     "data": {
      "text/plain": [
       "False"
      ]
     },
     "execution_count": 20,
     "metadata": {},
     "output_type": "execute_result"
    }
   ],
   "source": [
    "x is y"
   ]
  },
  {
   "cell_type": "code",
   "execution_count": 21,
   "id": "6ea754ad-a8e0-4099-b8a4-bb2b43a9894d",
   "metadata": {},
   "outputs": [
    {
     "data": {
      "text/plain": [
       "True"
      ]
     },
     "execution_count": 21,
     "metadata": {},
     "output_type": "execute_result"
    }
   ],
   "source": [
    "x is not y"
   ]
  },
  {
   "cell_type": "code",
   "execution_count": 53,
   "id": "7ac6f3aa-b31b-4a42-8f7e-8bbd3d846da5",
   "metadata": {},
   "outputs": [
    {
     "data": {
      "text/plain": [
       "['mango', 'apple']"
      ]
     },
     "execution_count": 53,
     "metadata": {},
     "output_type": "execute_result"
    }
   ],
   "source": [
    "# 4membership\n",
    "x=[\"mango\",\"apple\"]\n",
    "x"
   ]
  },
  {
   "cell_type": "code",
   "execution_count": 23,
   "id": "b41bbf42-7fff-40af-a3c2-4c22d94b9404",
   "metadata": {},
   "outputs": [
    {
     "data": {
      "text/plain": [
       "True"
      ]
     },
     "execution_count": 23,
     "metadata": {},
     "output_type": "execute_result"
    }
   ],
   "source": [
    "\"apple\"in x"
   ]
  },
  {
   "cell_type": "code",
   "execution_count": 25,
   "id": "b72dd4f0-b034-4fc3-845e-1ebe68dd5912",
   "metadata": {},
   "outputs": [
    {
     "data": {
      "text/plain": [
       "False"
      ]
     },
     "execution_count": 25,
     "metadata": {},
     "output_type": "execute_result"
    }
   ],
   "source": [
    "\"mango\"  not in x"
   ]
  },
  {
   "cell_type": "code",
   "execution_count": 54,
   "id": "65f810b7-2c24-46cf-8764-83e3154e8140",
   "metadata": {},
   "outputs": [],
   "source": [
    "# 5 Bitwise operators\n",
    "x=1\n",
    "y=5"
   ]
  },
  {
   "cell_type": "code",
   "execution_count": 50,
   "id": "79960c4a-6907-43fa-9ab9-9cfac0d9a5b4",
   "metadata": {},
   "outputs": [
    {
     "data": {
      "text/plain": [
       "1"
      ]
     },
     "execution_count": 50,
     "metadata": {},
     "output_type": "execute_result"
    }
   ],
   "source": [
    "x&y"
   ]
  },
  {
   "cell_type": "code",
   "execution_count": 51,
   "id": "d9539491-1491-4f56-892c-64c2c020eccc",
   "metadata": {},
   "outputs": [
    {
     "data": {
      "text/plain": [
       "5"
      ]
     },
     "execution_count": 51,
     "metadata": {},
     "output_type": "execute_result"
    }
   ],
   "source": [
    "x|y"
   ]
  },
  {
   "cell_type": "code",
   "execution_count": null,
   "id": "0e72105f-1bdb-4e7f-85b4-967e669fea4c",
   "metadata": {},
   "outputs": [],
   "source": []
  },
  {
   "cell_type": "code",
   "execution_count": null,
   "id": "082d6840-66e3-49d6-a896-1c49646f1069",
   "metadata": {},
   "outputs": [],
   "source": []
  }
 ],
 "metadata": {
  "kernelspec": {
   "display_name": "Python 3 (ipykernel)",
   "language": "python",
   "name": "python3"
  },
  "language_info": {
   "codemirror_mode": {
    "name": "ipython",
    "version": 3
   },
   "file_extension": ".py",
   "mimetype": "text/x-python",
   "name": "python",
   "nbconvert_exporter": "python",
   "pygments_lexer": "ipython3",
   "version": "3.11.7"
  }
 },
 "nbformat": 4,
 "nbformat_minor": 5
}
