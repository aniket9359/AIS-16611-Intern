{
 "cells": [
  {
   "cell_type": "code",
   "execution_count": 1,
   "id": "b3de3b46-e2eb-4bd3-890e-4b55b6f68fca",
   "metadata": {},
   "outputs": [
    {
     "data": {
      "text/plain": [
       "(1, 2, 'happy', 4)"
      ]
     },
     "execution_count": 1,
     "metadata": {},
     "output_type": "execute_result"
    }
   ],
   "source": [
    "#tuple creation \n",
    "t=(1,2,\"happy\",4)\n",
    "t"
   ]
  },
  {
   "cell_type": "code",
   "execution_count": 2,
   "id": "33410331-eafb-4b1d-bc9f-3fd17f60091d",
   "metadata": {},
   "outputs": [
    {
     "data": {
      "text/plain": [
       "4"
      ]
     },
     "execution_count": 2,
     "metadata": {},
     "output_type": "execute_result"
    }
   ],
   "source": [
    "#length\n",
    "len(t)"
   ]
  },
  {
   "cell_type": "markdown",
   "id": "c9fe5923-76c6-4ca7-b5aa-57d4e220a3bb",
   "metadata": {},
   "source": [
    "#type\n",
    "T1=(6,\"aniket\")\n",
    "type(T1)"
   ]
  },
  {
   "cell_type": "code",
   "execution_count": 7,
   "id": "3aa8c9a5-7b99-4a39-b3c4-21b2f6df9645",
   "metadata": {},
   "outputs": [
    {
     "data": {
      "text/plain": [
       "int"
      ]
     },
     "execution_count": 7,
     "metadata": {},
     "output_type": "execute_result"
    }
   ],
   "source": [
    "T2=(6)\n",
    "type(T2)"
   ]
  },
  {
   "cell_type": "code",
   "execution_count": 8,
   "id": "52108c86-7a46-477e-bb36-ca2d49cb511e",
   "metadata": {},
   "outputs": [
    {
     "data": {
      "text/plain": [
       "('car', 'BMW', 'thar')"
      ]
     },
     "execution_count": 8,
     "metadata": {},
     "output_type": "execute_result"
    }
   ],
   "source": [
    "#tuple constructor\n",
    "T3=(\"car\",\"BMW\",\"thar\")\n",
    "T3"
   ]
  },
  {
   "cell_type": "code",
   "execution_count": null,
   "id": "0c5a31bc-aac4-4493-8074-5b7f17142fbb",
   "metadata": {},
   "outputs": [],
   "source": []
  },
  {
   "cell_type": "code",
   "execution_count": null,
   "id": "dcb49abe-6489-466c-acda-366d02e650e7",
   "metadata": {},
   "outputs": [],
   "source": []
  }
 ],
 "metadata": {
  "kernelspec": {
   "display_name": "Python 3 (ipykernel)",
   "language": "python",
   "name": "python3"
  },
  "language_info": {
   "codemirror_mode": {
    "name": "ipython",
    "version": 3
   },
   "file_extension": ".py",
   "mimetype": "text/x-python",
   "name": "python",
   "nbconvert_exporter": "python",
   "pygments_lexer": "ipython3",
   "version": "3.11.7"
  }
 },
 "nbformat": 4,
 "nbformat_minor": 5
}
