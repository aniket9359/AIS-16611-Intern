{
 "cells": [
  {
   "cell_type": "code",
   "execution_count": 41,
   "id": "d035b663-b87a-498c-97d3-64c772466f71",
   "metadata": {},
   "outputs": [
    {
     "data": {
      "text/plain": [
       "7.160331000446723"
      ]
     },
     "execution_count": 41,
     "metadata": {},
     "output_type": "execute_result"
    }
   ],
   "source": [
    "#Stastical user defined function\n",
    "population=[1,65,22,45,22,34,66,22,12,10,99,55,12,17,10,36,23]\n",
    "data=[1,22,45,22,34,66,22,12,10,99]\n",
    "# imort the statistics library\n",
    "import statistics\n",
    "#1 Calculate harmonic mean\n",
    "statistics.harmonic_mean(data)"
   ]
  },
  {
   "cell_type": "code",
   "execution_count": 19,
   "id": "233da565-25df-4f4a-a828-4be417cc2f89",
   "metadata": {},
   "outputs": [
    {
     "data": {
      "text/plain": [
       "22"
      ]
     },
     "execution_count": 19,
     "metadata": {},
     "output_type": "execute_result"
    }
   ],
   "source": [
    "#2mode of data\n",
    "statistics.mode(data)"
   ]
  },
  {
   "cell_type": "code",
   "execution_count": 25,
   "id": "b2c6e2ee-7b63-482e-8439-071f1dd1a83a",
   "metadata": {},
   "outputs": [
    {
     "data": {
      "text/plain": [
       "882.9"
      ]
     },
     "execution_count": 25,
     "metadata": {},
     "output_type": "execute_result"
    }
   ],
   "source": [
    "#3variance of data\n",
    "statistics.variance(data)"
   ]
  },
  {
   "cell_type": "code",
   "execution_count": 27,
   "id": "46185fed-2da5-44b9-b264-94b57c1227ca",
   "metadata": {},
   "outputs": [
    {
     "data": {
      "text/plain": [
       "22.0"
      ]
     },
     "execution_count": 27,
     "metadata": {},
     "output_type": "execute_result"
    }
   ],
   "source": [
    "#4median of data\n",
    "statistics.median(data)"
   ]
  },
  {
   "cell_type": "code",
   "execution_count": 29,
   "id": "b9c2dab2-5447-4f27-ad16-ee96ce95a00c",
   "metadata": {},
   "outputs": [
    {
     "data": {
      "text/plain": [
       "33.3"
      ]
     },
     "execution_count": 29,
     "metadata": {},
     "output_type": "execute_result"
    }
   ],
   "source": [
    "#5Harmonic mean of data\n",
    "statistics.mean(data)"
   ]
  },
  {
   "cell_type": "code",
   "execution_count": 33,
   "id": "6adb42fe-e86a-434b-87cf-6e5ec0ae311b",
   "metadata": {},
   "outputs": [
    {
     "data": {
      "text/plain": [
       "29.71363323459452"
      ]
     },
     "execution_count": 33,
     "metadata": {},
     "output_type": "execute_result"
    }
   ],
   "source": [
    "#6Standard deviation\n",
    "statistics.stdev(data)"
   ]
  },
  {
   "cell_type": "code",
   "execution_count": 35,
   "id": "b3fe242b-9023-4af0-a651-d3e025788b30",
   "metadata": {},
   "outputs": [
    {
     "data": {
      "text/plain": [
       "22"
      ]
     },
     "execution_count": 35,
     "metadata": {},
     "output_type": "execute_result"
    }
   ],
   "source": [
    "#7 high median of data\n",
    "statistics.median_high(data)"
   ]
  },
  {
   "cell_type": "code",
   "execution_count": 37,
   "id": "7882d7ce-16f0-484d-b6fc-df52d6dbf706",
   "metadata": {},
   "outputs": [
    {
     "data": {
      "text/plain": [
       "22"
      ]
     },
     "execution_count": 37,
     "metadata": {},
     "output_type": "execute_result"
    }
   ],
   "source": [
    "#8 low median of data\n",
    "statistics.median_low(data)"
   ]
  },
  {
   "cell_type": "code",
   "execution_count": 43,
   "id": "cbf934fd-a29b-4278-a978-4ab34050e909",
   "metadata": {},
   "outputs": [
    {
     "data": {
      "text/plain": [
       "25.186501575083735"
      ]
     },
     "execution_count": 43,
     "metadata": {},
     "output_type": "execute_result"
    }
   ],
   "source": [
    "# 9 Calculates the standard deviation from an entire population\n",
    "statistics.pstdev(population)"
   ]
  },
  {
   "cell_type": "code",
   "execution_count": 45,
   "id": "c96e30cc-c935-48a3-8450-de75abf66caf",
   "metadata": {},
   "outputs": [
    {
     "data": {
      "text/plain": [
       "634.3598615916954"
      ]
     },
     "execution_count": 45,
     "metadata": {},
     "output_type": "execute_result"
    }
   ],
   "source": [
    "#10 Calculates the variance of an entire population\n",
    "statistics.pvariance(population)\n"
   ]
  }
 ],
 "metadata": {
  "kernelspec": {
   "display_name": "Python 3 (ipykernel)",
   "language": "python",
   "name": "python3"
  },
  "language_info": {
   "codemirror_mode": {
    "name": "ipython",
    "version": 3
   },
   "file_extension": ".py",
   "mimetype": "text/x-python",
   "name": "python",
   "nbconvert_exporter": "python",
   "pygments_lexer": "ipython3",
   "version": "3.11.7"
  }
 },
 "nbformat": 4,
 "nbformat_minor": 5
}
