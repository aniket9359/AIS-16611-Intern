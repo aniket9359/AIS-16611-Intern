{
 "cells": [
  {
   "cell_type": "code",
   "execution_count": null,
   "id": "7eced96a-89b5-4c47-9c9c-f9a266d182dc",
   "metadata": {},
   "outputs": [],
   "source": [
    "# if..else Statment\n",
    "#Explaination\n",
    "#The if-else statement is used to execute both the true part and the false part of a given condition. \n",
    "#If the condition is true, the if block code is executed and if the condition is false, the else block code is executed.\n",
    "#Condition checking and if-else statements are vital parts of programming because they control the flow of execution . \n",
    "#The if-else statement in Python enables decision-making in code. \n",
    "#It determines whether to execute a block of statements based on the result of a condition check"
   ]
  },
  {
   "cell_type": "code",
   "execution_count": 3,
   "id": "819ec222-b114-49b4-a091-937f6b47f846",
   "metadata": {},
   "outputs": [
    {
     "name": "stdout",
     "output_type": "stream",
     "text": [
      "a is less than b\n"
     ]
    }
   ],
   "source": [
    "#Examples\n",
    "#1\n",
    "a=20\n",
    "b=30\n",
    "if a>b:\n",
    "    print(\"a is greter than b\")\n",
    "else:\n",
    "    print(\"a is less than b\")"
   ]
  },
  {
   "cell_type": "code",
   "execution_count": 4,
   "id": "69aef8b6-a0ea-47ea-a181-7578833dd74e",
   "metadata": {},
   "outputs": [
    {
     "name": "stdout",
     "output_type": "stream",
     "text": [
      "you can not apply for licence\n"
     ]
    }
   ],
   "source": [
    "#2\n",
    "age=17\n",
    "if age>18:\n",
    "    print(\" you can apply for licence\")\n",
    "else:\n",
    "    print(\"you can not apply for licence\")"
   ]
  },
  {
   "cell_type": "code",
   "execution_count": 5,
   "id": "29e29841-2db6-46fc-af06-01cbdf35becf",
   "metadata": {},
   "outputs": [
    {
     "name": "stdout",
     "output_type": "stream",
     "text": [
      "sorry you are fail\n"
     ]
    }
   ],
   "source": [
    "#3\n",
    "marks=33\n",
    "if marks>36:\n",
    "    print(\"congratulation you are pass\")\n",
    "else:\n",
    "    print(\"sorry you are fail\")\n"
   ]
  },
  {
   "cell_type": "code",
   "execution_count": 6,
   "id": "01430f58-8dd6-4459-8c99-460409efdaf0",
   "metadata": {},
   "outputs": [
    {
     "name": "stdout",
     "output_type": "stream",
     "text": [
      "congratulation you are pass\n"
     ]
    }
   ],
   "source": [
    "#4\n",
    "marks=67\n",
    "if marks>36:\n",
    "    print(\"congratulation you are pass\")\n",
    "else:\n",
    "    print(\"sorry you are fail\")"
   ]
  },
  {
   "cell_type": "code",
   "execution_count": 7,
   "id": "cb392bad-ad4c-47a4-91e7-87b953aacd45",
   "metadata": {},
   "outputs": [
    {
     "name": "stdout",
     "output_type": "stream",
     "text": [
      "a is even number\n"
     ]
    }
   ],
   "source": [
    "#5\n",
    "a=10\n",
    "if a%2==0:\n",
    "    print(\"a is even number\")\n",
    "else:\n",
    "    print(\"a is odd number\")"
   ]
  },
  {
   "cell_type": "code",
   "execution_count": 8,
   "id": "0bf5b015-ac0c-4b8e-a83c-718a46e14937",
   "metadata": {},
   "outputs": [
    {
     "name": "stdout",
     "output_type": "stream",
     "text": [
      "a is odd number\n"
     ]
    }
   ],
   "source": [
    "#6\n",
    "a=9\n",
    "if a%2==0:\n",
    "    print(\"a is even number\")\n",
    "else:\n",
    "    print(\"a is odd number\")"
   ]
  },
  {
   "cell_type": "code",
   "execution_count": 9,
   "id": "a31a44ed-bbdf-47ff-9dbb-0170e00b9413",
   "metadata": {},
   "outputs": [
    {
     "name": "stdout",
     "output_type": "stream",
     "text": [
      "congratulation you are pass\n"
     ]
    }
   ],
   "source": [
    "#7\n",
    "marks=88\n",
    "if marks>36:\n",
    "    print(\"congratulation you are pass\")\n",
    "else:\n",
    "    print(\"sorry you are fail\")"
   ]
  },
  {
   "cell_type": "code",
   "execution_count": 10,
   "id": "c46e58fb-5973-4004-a3b2-51b8fdf59aa8",
   "metadata": {},
   "outputs": [
    {
     "name": "stdout",
     "output_type": "stream",
     "text": [
      "Excllent marks\n"
     ]
    }
   ],
   "source": [
    "#8\n",
    "marks=91\n",
    "if marks>90:\n",
    "    print(\"Excllent marks\")\n",
    "else:\n",
    "    print(\"Good marks\")"
   ]
  },
  {
   "cell_type": "markdown",
   "id": "dfb09b8b-093a-4c20-9971-2844ca362efd",
   "metadata": {},
   "source": [
    "#9\n",
    "marks=70\n",
    "if marks>90:\n",
    "    print(\"Excllent marks\")\n",
    "else:\n",
    "    print(\"Good marks\")"
   ]
  },
  {
   "cell_type": "code",
   "execution_count": 12,
   "id": "0ff3d9b8-9cd7-4567-aa6f-e7c30b0b5d56",
   "metadata": {},
   "outputs": [
    {
     "name": "stdout",
     "output_type": "stream",
     "text": [
      "a is greter than b\n"
     ]
    }
   ],
   "source": [
    "#10\n",
    "a=50\n",
    "b=30\n",
    "if a>b:\n",
    "    print(\"a is greter than b\")\n",
    "else:\n",
    "    print(\"a is less than b\")"
   ]
  }
 ],
 "metadata": {
  "kernelspec": {
   "display_name": "Python 3 (ipykernel)",
   "language": "python",
   "name": "python3"
  },
  "language_info": {
   "codemirror_mode": {
    "name": "ipython",
    "version": 3
   },
   "file_extension": ".py",
   "mimetype": "text/x-python",
   "name": "python",
   "nbconvert_exporter": "python",
   "pygments_lexer": "ipython3",
   "version": "3.11.7"
  }
 },
 "nbformat": 4,
 "nbformat_minor": 5
}
