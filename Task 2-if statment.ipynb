{
 "cells": [
  {
   "cell_type": "code",
   "execution_count": null,
   "id": "3afe0a5b-e0c6-4449-9aae-65da4315d0ba",
   "metadata": {},
   "outputs": [],
   "source": [
    "# If statment\n",
    "#Explaination\n",
    "#An if statement is a condition statement used to check a condition, and execute it if the condition holds true. \n",
    "#It is also a control flow statement, which utilizes decision-making to control the flow of execution\n",
    "#These conditions can be used in several ways, most commonly in \"if statements\" and loops.\n",
    "#An \"if statement\" is written by using the if keyword."
   ]
  },
  {
   "cell_type": "code",
   "execution_count": 3,
   "id": "49afce93-8199-4184-a4fb-96d379d368a3",
   "metadata": {},
   "outputs": [
    {
     "name": "stdout",
     "output_type": "stream",
     "text": [
      "b is greater than a\n"
     ]
    }
   ],
   "source": [
    "#Examples\n",
    "#1\n",
    "a=2\n",
    "b=5\n",
    "if b > a:\n",
    "  print(\"b is greater than a \")"
   ]
  },
  {
   "cell_type": "code",
   "execution_count": 5,
   "id": "99111a75-1d99-42c2-918b-75913c1fb2d4",
   "metadata": {},
   "outputs": [
    {
     "name": "stdout",
     "output_type": "stream",
     "text": [
      "x is greter than y\n"
     ]
    }
   ],
   "source": [
    "#2\n",
    "x=20\n",
    "y=19\n",
    "if x>y:\n",
    "    print(\"x is greter than y\")"
   ]
  },
  {
   "cell_type": "code",
   "execution_count": 6,
   "id": "798d845f-9818-4bc3-ae24-a9ca3bc6129f",
   "metadata": {},
   "outputs": [
    {
     "name": "stdout",
     "output_type": "stream",
     "text": [
      "you can apply for licence\n"
     ]
    }
   ],
   "source": [
    "#3\n",
    "age=20\n",
    "if age>18:\n",
    "    print(\"you can apply for licence\")"
   ]
  },
  {
   "cell_type": "code",
   "execution_count": 8,
   "id": "0e0a4fea-900f-4964-9e61-50d02e49e6fa",
   "metadata": {},
   "outputs": [
    {
     "name": "stdout",
     "output_type": "stream",
     "text": [
      "you can apply for voter card\n"
     ]
    }
   ],
   "source": [
    "#4\n",
    "age=19\n",
    "if age>=18:\n",
    "    print(\"you can apply for voter card\")"
   ]
  },
  {
   "cell_type": "code",
   "execution_count": 12,
   "id": "2e3f22e5-792e-4dde-ae74-79619abaf76e",
   "metadata": {},
   "outputs": [
    {
     "name": "stdout",
     "output_type": "stream",
     "text": [
      "a is even number\n"
     ]
    }
   ],
   "source": [
    "#5\n",
    "a=10\n",
    "if a%2==0:\n",
    "    print(\"a is even number\")"
   ]
  },
  {
   "cell_type": "code",
   "execution_count": 13,
   "id": "1eb4e5a3-617c-472f-acb6-b4c6aa75b77a",
   "metadata": {},
   "outputs": [
    {
     "name": "stdout",
     "output_type": "stream",
     "text": [
      "Excllent marks\n"
     ]
    }
   ],
   "source": [
    "#6\n",
    "marks=91\n",
    "if marks>90:\n",
    "    print(\"Excllent marks\")"
   ]
  },
  {
   "cell_type": "code",
   "execution_count": 14,
   "id": "89dab890-080b-4393-8a84-8ff2f80b8a9f",
   "metadata": {},
   "outputs": [
    {
     "name": "stdout",
     "output_type": "stream",
     "text": [
      "you are fail\n"
     ]
    }
   ],
   "source": [
    "#7\n",
    "marks=33\n",
    "if marks<36:\n",
    "    print(\"you are fail\")"
   ]
  },
  {
   "cell_type": "code",
   "execution_count": 18,
   "id": "a9008bab-2556-478a-8d23-f1be44b6244a",
   "metadata": {},
   "outputs": [
    {
     "name": "stdout",
     "output_type": "stream",
     "text": [
      "a is odd number\n"
     ]
    }
   ],
   "source": [
    "#8\n",
    "a=9\n",
    "if a%3==0:\n",
    "     print(\"a is odd number\")"
   ]
  },
  {
   "cell_type": "code",
   "execution_count": 19,
   "id": "b10f1dc2-f04d-43e9-b97c-daf43e19e85e",
   "metadata": {},
   "outputs": [
    {
     "name": "stdout",
     "output_type": "stream",
     "text": [
      "a is greter than or eqaul to b\n"
     ]
    }
   ],
   "source": [
    "#9\n",
    "a=12\n",
    "b=12\n",
    "if a>=12:\n",
    "    print(\"a is greter than or eqaul to b\")"
   ]
  },
  {
   "cell_type": "markdown",
   "id": "0caa9713-dba6-4d19-90fe-a3d367a3a522",
   "metadata": {},
   "source": [
    "#10\n",
    "a=10\n",
    "b=50\n",
    "if b > a:\n",
    "  print(\"b is greater than a \")"
   ]
  }
 ],
 "metadata": {
  "kernelspec": {
   "display_name": "Python 3 (ipykernel)",
   "language": "python",
   "name": "python3"
  },
  "language_info": {
   "codemirror_mode": {
    "name": "ipython",
    "version": 3
   },
   "file_extension": ".py",
   "mimetype": "text/x-python",
   "name": "python",
   "nbconvert_exporter": "python",
   "pygments_lexer": "ipython3",
   "version": "3.11.7"
  }
 },
 "nbformat": 4,
 "nbformat_minor": 5
}
