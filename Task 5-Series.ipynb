{
 "cells": [
  {
   "cell_type": "code",
   "execution_count": null,
   "id": "ca4be2f2-8b43-4cf6-98aa-a77a6e97565f",
   "metadata": {},
   "outputs": [],
   "source": [
    "#Pandas Library\n",
    "#Series:Create and operation:\n",
    "#Explaination:Pandas Series is a one-dimensional labeled array capable of holding data of any type (integer, string, float, python objects, etc.).\n",
    "#A Pandas Series is like a column in a table."
   ]
  },
  {
   "cell_type": "code",
   "execution_count": 1,
   "id": "be2e855f-881c-4f78-bc4b-e7332ea5c323",
   "metadata": {},
   "outputs": [
    {
     "name": "stdout",
     "output_type": "stream",
     "text": [
      "0    1\n",
      "1    2\n",
      "2    3\n",
      "3    4\n",
      "dtype: int64\n"
     ]
    }
   ],
   "source": [
    "#Example 1\n",
    "#simple array\n",
    "import pandas as pd\n",
    "data = [1, 2, 3, 4]\n",
    "series = pd.Series(data)\n",
    "print(series)"
   ]
  },
  {
   "cell_type": "code",
   "execution_count": 51,
   "id": "877dede3-7a09-4f4d-83c8-7df8f6de17e9",
   "metadata": {},
   "outputs": [
    {
     "name": "stdout",
     "output_type": "stream",
     "text": [
      "0     grape\n",
      "1     apple\n",
      "2    banana\n",
      "3    orange\n",
      "dtype: object\n"
     ]
    }
   ],
   "source": [
    "#2\n",
    "#simple array\n",
    "import pandas as pd\n",
    "import numpy as np\n",
    "data = np.array(['grape','apple','banana','orange'])\n",
    "ser = pd.Series(data)\n",
    "print(ser)"
   ]
  },
  {
   "cell_type": "code",
   "execution_count": 65,
   "id": "a7d8a5d7-caf3-44e3-885a-9dd995238f95",
   "metadata": {},
   "outputs": [
    {
     "name": "stdout",
     "output_type": "stream",
     "text": [
      "0    g\n",
      "1    e\n",
      "2    e\n",
      "3    k\n",
      "4    s\n",
      "dtype: object\n"
     ]
    }
   ],
   "source": [
    "#3\n",
    "#simple list\n",
    "import pandas as pd\n",
    "data=['g','e','e','k','s']\n",
    "seri= pd.Series(data)\n",
    "print(seri)"
   ]
  },
  {
   "cell_type": "code",
   "execution_count": 75,
   "id": "f496a514-bd65-445c-a137-64f123185d06",
   "metadata": {},
   "outputs": [
    {
     "name": "stdout",
     "output_type": "stream",
     "text": [
      "0    g\n",
      "1    e\n",
      "2    e\n",
      "3    k\n",
      "4    s\n",
      "5    f\n",
      "6    o\n",
      "7    r\n",
      "dtype: object\n"
     ]
    }
   ],
   "source": [
    "#Accessing Element from Series with Position : \n",
    "import pandas as pd\n",
    "data =['g','e','e','k','s','f', 'o','r','g','e','e','k','s']\n",
    "ser = pd.Series(data)\n",
    "print(ser[:8])"
   ]
  },
  {
   "cell_type": "code",
   "execution_count": 81,
   "id": "fd84758b-855b-4f53-97c4-e4a015966b89",
   "metadata": {},
   "outputs": [
    {
     "name": "stdout",
     "output_type": "stream",
     "text": [
      "f\n"
     ]
    }
   ],
   "source": [
    "#Accessing Element Using Label (index):\n",
    "# import pandas and numpy \n",
    "import pandas as pd\n",
    "import numpy as np\n",
    "data = np.array(['g','e','e','k','s','f', 'o','r','g','e','e','k','s'])\n",
    "ser = pd.Series(data) \n",
    "print(ser[5])"
   ]
  },
  {
   "cell_type": "code",
   "execution_count": 83,
   "id": "fa5f7f13-76ec-4038-8f86-97ff7b94bc3b",
   "metadata": {},
   "outputs": [
    {
     "name": "stdout",
     "output_type": "stream",
     "text": [
      "x    1\n",
      "y    7\n",
      "z    2\n",
      "dtype: int64\n"
     ]
    }
   ],
   "source": [
    "#Create Labels\n",
    "#Example\n",
    "import pandas as pd\n",
    "a = [1, 7, 2]\n",
    "ser = pd.Series(a, index = [\"x\", \"y\", \"z\"])\n",
    "print(ser)\n"
   ]
  },
  {
   "cell_type": "code",
   "execution_count": 85,
   "id": "2052ed29-e7f5-4ad0-b7ba-a9d4cf67f81d",
   "metadata": {},
   "outputs": [
    {
     "name": "stdout",
     "output_type": "stream",
     "text": [
      "day1    420\n",
      "day2    380\n",
      "day3    390\n",
      "dtype: int64\n"
     ]
    }
   ],
   "source": [
    "import pandas as pd\n",
    "calories = {\"day1\": 420, \"day2\": 380, \"day3\": 390}\n",
    "myvar = pd.Series(calories)\n",
    "print(myvar)"
   ]
  },
  {
   "cell_type": "code",
   "execution_count": 99,
   "id": "c824533e-81d8-4d38-8a4c-afebe78da3d5",
   "metadata": {},
   "outputs": [
    {
     "name": "stdout",
     "output_type": "stream",
     "text": [
      "b    2\n",
      "c    3\n",
      "d    4\n",
      "dtype: int64\n",
      "b    2\n",
      "c    3\n",
      "d    4\n",
      "dtype: int64\n"
     ]
    }
   ],
   "source": [
    "#operations\n",
    "#slicing\n",
    "import pandas as pd\n",
    "a=pd.Series([1,2,3,4,5],index=['a','b','c','d','e'])\n",
    "#slicing by tables\n",
    "print(a['b':'d'])\n",
    "#slicing by position\n",
    "print(a[1:4])\n"
   ]
  },
  {
   "cell_type": "code",
   "execution_count": 3,
   "id": "80f4de3a-7793-40e8-bff8-40bf4f8b9f44",
   "metadata": {},
   "outputs": [
    {
     "name": "stdout",
     "output_type": "stream",
     "text": [
      "0     6\n",
      "1     8\n",
      "2    10\n",
      "3    12\n",
      "dtype: int64\n",
      "0     5\n",
      "1    12\n",
      "2    21\n",
      "3    32\n",
      "dtype: int64\n"
     ]
    }
   ],
   "source": [
    "#Arithmetic operation\n",
    "import pandas as pd\n",
    "s1=pd.Series([1,2,3,4])\n",
    "s2=pd.Series([5,6,7,8])\n",
    "#Element wise addition\n",
    "print(s1+s2)\n",
    "print(s1*s2)"
   ]
  },
  {
   "cell_type": "code",
   "execution_count": 7,
   "id": "1cf1c219-c8db-4339-976f-853adf984120",
   "metadata": {},
   "outputs": [
    {
     "name": "stdout",
     "output_type": "stream",
     "text": [
      "0    False\n",
      "1    False\n",
      "2     True\n",
      "3     True\n",
      "dtype: bool\n",
      "0    False\n",
      "1     True\n",
      "2     True\n",
      "3     True\n",
      "dtype: bool\n"
     ]
    }
   ],
   "source": [
    "#Boolen opertions\n",
    "#Element wise comparison\n",
    "print(s1>2)\n",
    "print(s2>5)"
   ]
  },
  {
   "cell_type": "code",
   "execution_count": 19,
   "id": "9e033071-3cb9-4da7-b582-fef238cf77a6",
   "metadata": {},
   "outputs": [
    {
     "name": "stdout",
     "output_type": "stream",
     "text": [
      "21\n",
      "3.5\n",
      "1\n",
      "6\n"
     ]
    }
   ],
   "source": [
    "#Aggregation and rduction\n",
    "import pandas as pd\n",
    "A=pd.Series([1,2,3,4,5,6])\n",
    "print(A.sum()) #sum of all elements\n",
    "print(A.mean()) # mean of all elements\n",
    "print(A.min()) #minimum value \n",
    "print(A.max()) #maximum value"
   ]
  },
  {
   "cell_type": "code",
   "execution_count": 29,
   "id": "56654824-3d89-4adb-bc2a-2042fa8ef6ab",
   "metadata": {},
   "outputs": [
    {
     "name": "stdout",
     "output_type": "stream",
     "text": [
      "8    0\n",
      "9    1\n",
      "1    3\n",
      "2    3\n",
      "6    4\n",
      "7    4\n",
      "5    5\n",
      "0    7\n",
      "3    8\n",
      "4    9\n",
      "dtype: int64\n",
      "0    7\n",
      "1    3\n",
      "2    3\n",
      "3    8\n",
      "4    9\n",
      "5    5\n",
      "6    4\n",
      "7    4\n",
      "8    0\n",
      "9    1\n",
      "dtype: int64\n",
      "0     8.0\n",
      "1     3.5\n",
      "2     3.5\n",
      "3     9.0\n",
      "4    10.0\n",
      "5     7.0\n",
      "6     5.5\n",
      "7     5.5\n",
      "8     1.0\n",
      "9     2.0\n",
      "dtype: float64\n"
     ]
    }
   ],
   "source": [
    "# sorting and ranking\n",
    "import pandas as pd\n",
    "s=pd.Series([7,3,3,8,9,5,4,4,0,1])\n",
    "# sorting by values\n",
    "print(s.sort_values())\n",
    "#sorting by index\n",
    "print(s.sort_index())\n",
    "#Ranking\n",
    "print(s.rank())"
   ]
  },
  {
   "cell_type": "code",
   "execution_count": 33,
   "id": "42e1d978-53e4-4c7a-a466-3f988da7d66d",
   "metadata": {},
   "outputs": [
    {
     "name": "stdout",
     "output_type": "stream",
     "text": [
      "0    False\n",
      "1    False\n",
      "2    False\n",
      "3     True\n",
      "4    False\n",
      "5    False\n",
      "dtype: bool\n",
      "0    2.0\n",
      "1    3.0\n",
      "2    4.0\n",
      "3    5.0\n",
      "4    6.0\n",
      "5    7.0\n",
      "dtype: float64\n"
     ]
    }
   ],
   "source": [
    "#handling Missing data\n",
    "s=pd.Series([2,3,4,None,6,7])\n",
    "#check for missing values\n",
    "print(s.isnull())\n",
    "#fill missing value with specific values\n",
    "print(s.fillna(5))"
   ]
  },
  {
   "cell_type": "code",
   "execution_count": 37,
   "id": "dafe8082-7b3e-4c61-838b-3acdea975d8e",
   "metadata": {},
   "outputs": [
    {
     "name": "stdout",
     "output_type": "stream",
     "text": [
      "0    1.000000\n",
      "1    1.414214\n",
      "2    1.732051\n",
      "3    2.000000\n",
      "4    2.236068\n",
      "dtype: float64\n"
     ]
    }
   ],
   "source": [
    "#Elemnet wise function\n",
    "import pandas as pd\n",
    "# creating a seris objects\n",
    "s=pd.Series([1,2,3,4,5])\n",
    "print(s**0.5)"
   ]
  },
  {
   "cell_type": "code",
   "execution_count": null,
   "id": "638ba84b-4bf1-413a-ac28-66f889f767ae",
   "metadata": {},
   "outputs": [],
   "source": []
  }
 ],
 "metadata": {
  "kernelspec": {
   "display_name": "Python 3 (ipykernel)",
   "language": "python",
   "name": "python3"
  },
  "language_info": {
   "codemirror_mode": {
    "name": "ipython",
    "version": 3
   },
   "file_extension": ".py",
   "mimetype": "text/x-python",
   "name": "python",
   "nbconvert_exporter": "python",
   "pygments_lexer": "ipython3",
   "version": "3.11.7"
  }
 },
 "nbformat": 4,
 "nbformat_minor": 5
}
