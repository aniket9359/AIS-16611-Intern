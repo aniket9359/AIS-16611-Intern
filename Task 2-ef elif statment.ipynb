{
 "cells": [
  {
   "cell_type": "code",
   "execution_count": null,
   "id": "351cf874-4a70-4a72-80e9-817c401a93b4",
   "metadata": {},
   "outputs": [],
   "source": [
    "#if..elif statment\n",
    "#explaination\n",
    "#We can use the if-elif-else statement to tell Python to try a different condition if the previous conditions were not met.\n",
    "#if… elif…else are conditional statements used in Python that help you to automatically execute different code based on a particular condition.\n",
    "#This tutorial explains each statement in this Python construct, along with examples.\n",
    "#The elif keyword is Python's way of saying \"if the previous conditions were not true, then try this condition\"."
   ]
  },
  {
   "cell_type": "code",
   "execution_count": 1,
   "id": "adf11d54-b08f-4e77-8daa-b6fbf7acba76",
   "metadata": {},
   "outputs": [
    {
     "name": "stdout",
     "output_type": "stream",
     "text": [
      "a and b are equal\n"
     ]
    }
   ],
   "source": [
    "#Example\n",
    "#1\n",
    "a = 33\n",
    "b = 33\n",
    "if b > a:\n",
    "  print(\"b is greater than a\")\n",
    "elif a == b:\n",
    "  print(\"a and b are equal\")"
   ]
  },
  {
   "cell_type": "code",
   "execution_count": 4,
   "id": "b1d8fd06-2a9a-4d62-b0e6-85a4a6300b88",
   "metadata": {},
   "outputs": [
    {
     "name": "stdout",
     "output_type": "stream",
     "text": [
      "positive number\n"
     ]
    }
   ],
   "source": [
    "#2\n",
    "num=5\n",
    "if num>0:\n",
    "    print(\"positive number\")\n",
    "elif num<0:\n",
    "    print(\"negetive number\")"
   ]
  },
  {
   "cell_type": "code",
   "execution_count": 6,
   "id": "db269295-14bb-4306-b9d4-1554f45632be",
   "metadata": {},
   "outputs": [
    {
     "name": "stdout",
     "output_type": "stream",
     "text": [
      "rainy season\n"
     ]
    }
   ],
   "source": [
    "#3\n",
    "month=7\n",
    "if month==12 or month==1 or month==2:\n",
    "    print(\"winter\")\n",
    "elif month==6 or month==7 or month==8:\n",
    "    print(\"rainy season\")"
   ]
  },
  {
   "cell_type": "code",
   "execution_count": 10,
   "id": "385935eb-0908-4983-9162-695e4c6b3d7f",
   "metadata": {},
   "outputs": [
    {
     "name": "stdout",
     "output_type": "stream",
     "text": [
      "you are fail\n"
     ]
    }
   ],
   "source": [
    "#4\n",
    "marks=32\n",
    "if marks>80:\n",
    "    print(\"You got Grade A\")\n",
    "elif marks>70:\n",
    "    print(\"You got grade B\")\n",
    "elif marks>60:\n",
    "    print(\"You got Grade c\")\n",
    "elif marks<36:\n",
    "    print(\"you are fail\")"
   ]
  },
  {
   "cell_type": "code",
   "execution_count": 14,
   "id": "77779940-d5b5-4e94-b6ec-8b1609040bba",
   "metadata": {},
   "outputs": [
    {
     "name": "stdout",
     "output_type": "stream",
     "text": [
      "Discount is 10%\n"
     ]
    }
   ],
   "source": [
    "#5\n",
    "purchase_amount=200\n",
    "if purchase_amount>100:\n",
    "    print(\"Discount is 10%\")\n",
    "elif purchase_amount<100:\n",
    "    print(\"Discount is 5%\")"
   ]
  },
  {
   "cell_type": "code",
   "execution_count": 15,
   "id": "091ee86e-2c24-496c-9ee7-c8a6dc6b33a2",
   "metadata": {},
   "outputs": [
    {
     "name": "stdout",
     "output_type": "stream",
     "text": [
      "you can not apply for voter card\n"
     ]
    }
   ],
   "source": [
    "#6\n",
    "age=12\n",
    "if age>18:\n",
    "    print(\"you can apply for voter card\")\n",
    "elif age<18:\n",
    "    print(\"you can not apply for voter card\")"
   ]
  },
  {
   "cell_type": "code",
   "execution_count": 16,
   "id": "eabf3528-93c8-425a-aacc-4e875fe1520e",
   "metadata": {},
   "outputs": [
    {
     "name": "stdout",
     "output_type": "stream",
     "text": [
      "you can apply for Licence\n"
     ]
    }
   ],
   "source": [
    "#7\n",
    "age=22\n",
    "if age>18:\n",
    "    print(\"you can apply for Licence\")\n",
    "elif age<18:\n",
    "    print(\"you can not apply for Licence\")"
   ]
  },
  {
   "cell_type": "markdown",
   "id": "db3fd369-869a-444a-943d-d7a85a87766d",
   "metadata": {},
   "source": [
    "#8\n",
    "hour=15\n",
    "if hour<12:\n",
    "    print (\"Good morning\")\n",
    "elif hour<18:\n",
    "    print(\"good afternon\")\n",
    "else:\n",
    "    print(\"good evening\")"
   ]
  },
  {
   "cell_type": "code",
   "execution_count": 18,
   "id": "4877036b-14b5-4857-9ce8-98529494bd78",
   "metadata": {},
   "outputs": [
    {
     "name": "stdout",
     "output_type": "stream",
     "text": [
      "negetive number\n"
     ]
    }
   ],
   "source": [
    "#9\n",
    "num=-2\n",
    "if num>0:\n",
    "    print(\"positive number\")\n",
    "elif num<0:\n",
    "    print(\"negetive number\")"
   ]
  },
  {
   "cell_type": "code",
   "execution_count": 19,
   "id": "88fe3c1b-6b95-478a-8ea3-fd3e0fca74e4",
   "metadata": {},
   "outputs": [
    {
     "name": "stdout",
     "output_type": "stream",
     "text": [
      "b is greater than a\n"
     ]
    }
   ],
   "source": [
    "#10\n",
    "a = 3\n",
    "b = 9\n",
    "if b > a:\n",
    "  print(\"b is greater than a\")\n",
    "elif a == b:\n",
    "  print(\"a and b are equal\")"
   ]
  },
  {
   "cell_type": "code",
   "execution_count": null,
   "id": "8abdb5e9-3c8e-47e3-af60-8931323c4cba",
   "metadata": {},
   "outputs": [],
   "source": []
  }
 ],
 "metadata": {
  "kernelspec": {
   "display_name": "Python 3 (ipykernel)",
   "language": "python",
   "name": "python3"
  },
  "language_info": {
   "codemirror_mode": {
    "name": "ipython",
    "version": 3
   },
   "file_extension": ".py",
   "mimetype": "text/x-python",
   "name": "python",
   "nbconvert_exporter": "python",
   "pygments_lexer": "ipython3",
   "version": "3.11.7"
  }
 },
 "nbformat": 4,
 "nbformat_minor": 5
}
