{
 "cells": [
  {
   "cell_type": "code",
   "execution_count": 43,
   "id": "b102a980-9c6e-408c-9e8a-5c78be9ce73b",
   "metadata": {},
   "outputs": [
    {
     "name": "stdin",
     "output_type": "stream",
     "text": [
      "Enter a number: 5\n"
     ]
    },
    {
     "name": "stdout",
     "output_type": "stream",
     "text": [
      "Factorial of 5 is 120\n"
     ]
    }
   ],
   "source": [
    "#Logical user defined function\n",
    "#1\n",
    "def factorial(n):\n",
    "    fact=1\n",
    "    for i in range(1,n+1):\n",
    "             fact=fact*i\n",
    "    return fact\n",
    "num=int(input(\"Enter a number:\"))\n",
    "f=factorial(num)\n",
    "print(\"Factorial of\",num,\"is\",f)"
   ]
  },
  {
   "cell_type": "code",
   "execution_count": 45,
   "id": "cdb28147-dd3e-4d71-a893-62f6ccf10150",
   "metadata": {},
   "outputs": [
    {
     "name": "stdin",
     "output_type": "stream",
     "text": [
      "Enter a string: stat\n"
     ]
    },
    {
     "name": "stdout",
     "output_type": "stream",
     "text": [
      "Number of vowels are 1\n"
     ]
    }
   ],
   "source": [
    "#2\n",
    "def count_vowel(str):\n",
    "    c=0\n",
    "    vowels=\"AEIOUaeiou\"\n",
    "    for chart in str:\n",
    "        if chart in vowels:\n",
    "            c+=1\n",
    "            return c\n",
    "s=input(\"Enter a string:\")\n",
    "number_of_vowels=count_vowel(s)\n",
    "print(\"Number of vowels are\",number_of_vowels)"
   ]
  },
  {
   "cell_type": "code",
   "execution_count": 17,
   "id": "357c7eca-dbbc-41cd-9723-6c43fd2eddcf",
   "metadata": {},
   "outputs": [
    {
     "name": "stdout",
     "output_type": "stream",
     "text": [
      "maximum nuber is 42\n"
     ]
    }
   ],
   "source": [
    "#3\n",
    "def maximum(num):\n",
    "    m=num[0]\n",
    "    for i in num:\n",
    "        if i>m:\n",
    "            m=i\n",
    "    return m\n",
    "numbers=[5,8,42,8,5,3,12]\n",
    "max=maximum(numbers)\n",
    "print(\"maximum nuber is\",max)"
   ]
  },
  {
   "cell_type": "code",
   "execution_count": 25,
   "id": "1c8ad2d4-f564-463e-b144-571e96531550",
   "metadata": {},
   "outputs": [
    {
     "name": "stdin",
     "output_type": "stream",
     "text": [
      "Enter a number: 12\n"
     ]
    },
    {
     "name": "stdout",
     "output_type": "stream",
     "text": [
      "not prime\n"
     ]
    }
   ],
   "source": [
    "#4\n",
    "def prime(num):\n",
    "    if num<=1:\n",
    "        return \"not prime\"\n",
    "    else:\n",
    "        i=2\n",
    "        while i<num:\n",
    "            if num%i==0:\n",
    "               return \"not prime\"\n",
    "        else:\n",
    "            return \"prime number\"\n",
    "        i+=1\n",
    "n=num=int(input(\"Enter a number:\"))\n",
    "print(prime(n))"
   ]
  },
  {
   "cell_type": "code",
   "execution_count": 31,
   "id": "5b554064-d14c-4f19-818c-bd6df306c0be",
   "metadata": {},
   "outputs": [
    {
     "name": "stdin",
     "output_type": "stream",
     "text": [
      "Enter a radius: 10\n"
     ]
    },
    {
     "name": "stdout",
     "output_type": "stream",
     "text": [
      "314.0\n"
     ]
    }
   ],
   "source": [
    "#5\n",
    "def area(r):\n",
    "    pi=3.14\n",
    "    a=pi*r*r\n",
    "    return a\n",
    "radius=int(input(\"Enter a radius:\"))\n",
    "print(area(radius))"
   ]
  },
  {
   "cell_type": "code",
   "execution_count": 33,
   "id": "c2fff694-4ed5-453c-8785-820c9548c1b7",
   "metadata": {},
   "outputs": [
    {
     "name": "stdin",
     "output_type": "stream",
     "text": [
      "Enter a number: 9\n"
     ]
    },
    {
     "name": "stdout",
     "output_type": "stream",
     "text": [
      "9 is odd number\n"
     ]
    }
   ],
   "source": [
    "#6\n",
    "def ev_odd(n):\n",
    "    if n%2==0:\n",
    "        return \"Even number\"\n",
    "    else:\n",
    "        return \"odd number\"\n",
    "num=int(input(\"Enter a number:\"))\n",
    "ans=ev_odd(num)\n",
    "print(num,\"is\",ans)"
   ]
  },
  {
   "cell_type": "code",
   "execution_count": 35,
   "id": "fc1eae34-44f4-4c40-8bbc-79d87358d88a",
   "metadata": {},
   "outputs": [
    {
     "name": "stdin",
     "output_type": "stream",
     "text": [
      "enter base 4\n",
      "enter height 8\n"
     ]
    },
    {
     "name": "stdout",
     "output_type": "stream",
     "text": [
      "area of triangleis 16.0\n"
     ]
    }
   ],
   "source": [
    "#7\n",
    "def cal_area(b,h):\n",
    "    area=0.5*b*h\n",
    "    return area\n",
    "base=int(input(\"enter base\"))\n",
    "height=int(input(\"enter height\"))\n",
    "print(\"area of triangleis\",cal_area(base,height))"
   ]
  },
  {
   "cell_type": "code",
   "execution_count": 9,
   "id": "a5476580-612a-4338-a428-b347fdb49d60",
   "metadata": {},
   "outputs": [
    {
     "name": "stdin",
     "output_type": "stream",
     "text": [
      "enter a number: 8\n"
     ]
    },
    {
     "name": "stdout",
     "output_type": "stream",
     "text": [
      "square is 64\n"
     ]
    }
   ],
   "source": [
    "#8\n",
    "def sq_number(n):\n",
    "    sq=n**2\n",
    "    return sq\n",
    "num=int(input(\"enter a number:\"))\n",
    "print(\"square is\",sq_number(num))"
   ]
  },
  {
   "cell_type": "code",
   "execution_count": 13,
   "id": "2040015c-1d2c-4970-980b-13066a165795",
   "metadata": {},
   "outputs": [
    {
     "name": "stdin",
     "output_type": "stream",
     "text": [
      "enter a number: 8\n"
     ]
    },
    {
     "name": "stdout",
     "output_type": "stream",
     "text": [
      "cube is 512\n"
     ]
    }
   ],
   "source": [
    "#9\n",
    "def cube_number(n):\n",
    "    c=n**3\n",
    "    return c\n",
    "num=int(input(\"enter a number:\"))\n",
    "print(\"cube is\",cube_number(num))"
   ]
  },
  {
   "cell_type": "markdown",
   "id": "451df839-69fc-4772-87bf-1698da34579c",
   "metadata": {},
   "source": [
    "#10\n",
    "def deg_to_fahrenheit(c):\n",
    "    ans=(c*9/5)+32\n",
    "    return ans\n",
    "celsius=int(input(\"enter tempt in celcius:\"))\n",
    "print(deg_to_fahrenheit(celsius))\n"
   ]
  },
  {
   "cell_type": "code",
   "execution_count": null,
   "id": "f137873e-8828-4658-9ccc-32908fddd377",
   "metadata": {},
   "outputs": [],
   "source": []
  }
 ],
 "metadata": {
  "kernelspec": {
   "display_name": "Python 3 (ipykernel)",
   "language": "python",
   "name": "python3"
  },
  "language_info": {
   "codemirror_mode": {
    "name": "ipython",
    "version": 3
   },
   "file_extension": ".py",
   "mimetype": "text/x-python",
   "name": "python",
   "nbconvert_exporter": "python",
   "pygments_lexer": "ipython3",
   "version": "3.11.7"
  }
 },
 "nbformat": 4,
 "nbformat_minor": 5
}
