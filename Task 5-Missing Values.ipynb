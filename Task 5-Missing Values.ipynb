{
 "cells": [
  {
   "cell_type": "code",
   "execution_count": null,
   "id": "d9dced69-77ec-4a8e-9dc9-2ec4d5054675",
   "metadata": {},
   "outputs": [],
   "source": [
    "#Missing values"
   ]
  },
  {
   "cell_type": "code",
   "execution_count": 1,
   "id": "8fb6fb8f-6378-4619-b871-1ddcbfda0873",
   "metadata": {},
   "outputs": [
    {
     "name": "stdout",
     "output_type": "stream",
     "text": [
      "       A      B      C\n",
      "0  False  False  False\n",
      "1  False   True  False\n",
      "2   True   True  False\n",
      "3  False  False  False\n"
     ]
    }
   ],
   "source": [
    "import pandas as pd\n",
    "import numpy as np\n",
    "\n",
    "# Create a DataFrame with some missing values\n",
    "data = {\n",
    "    'A': [1, 2, np.nan, 4],\n",
    "    'B': [5, np.nan, np.nan, 8],\n",
    "    'C': [9, 10, 11, 12]\n",
    "}\n",
    "df = pd.DataFrame(data)\n",
    "\n",
    "# Check for missing values\n",
    "missing_values = df.isna()  # or df.isnull()\n",
    "print(missing_values)"
   ]
  },
  {
   "cell_type": "code",
   "execution_count": 3,
   "id": "6a33f80d-2b0a-4695-8b29-68cd73492d09",
   "metadata": {},
   "outputs": [
    {
     "name": "stdout",
     "output_type": "stream",
     "text": [
      "     A    B   C\n",
      "0  1.0  5.0   9\n",
      "3  4.0  8.0  12\n"
     ]
    }
   ],
   "source": [
    "import pandas as pd\n",
    "import numpy as np\n",
    "\n",
    "# Create a DataFrame with some missing values\n",
    "data = {\n",
    "    'A': [1, 2, np.nan, 4],\n",
    "    'B': [5, np.nan, np.nan, 8],\n",
    "    'C': [9, 10, 11, 12]\n",
    "}\n",
    "df = pd.DataFrame(data)\n",
    "\n",
    "# Drop rows with any missing values\n",
    "df_dropped_rows = df.dropna()\n",
    "print(df_dropped_rows)"
   ]
  },
  {
   "cell_type": "code",
   "execution_count": 5,
   "id": "08dbab0c-8023-415e-83c8-144d8d8a05c5",
   "metadata": {},
   "outputs": [
    {
     "name": "stdout",
     "output_type": "stream",
     "text": [
      "    C\n",
      "0   9\n",
      "1  10\n",
      "2  11\n",
      "3  12\n"
     ]
    }
   ],
   "source": [
    "# Drop columns with any missing values\n",
    "df_dropped_columns = df.dropna(axis=1)\n",
    "print(df_dropped_columns)"
   ]
  },
  {
   "cell_type": "code",
   "execution_count": 7,
   "id": "98ad0eef-6577-4d65-8cc9-78856f63bea0",
   "metadata": {},
   "outputs": [
    {
     "name": "stdout",
     "output_type": "stream",
     "text": [
      "     A    B     C\n",
      "0  1.0  5.0   9.0\n",
      "3  4.0  8.0  12.0\n"
     ]
    }
   ],
   "source": [
    "# Create a DataFrame with some rows having all NaN values\n",
    "data_with_all_nan_rows = {\n",
    "    'A': [1, np.nan, np.nan, 4],\n",
    "    'B': [5, np.nan, np.nan, 8],\n",
    "    'C': [9, np.nan, np.nan, 12]\n",
    "}\n",
    "df_with_all_nan_rows = pd.DataFrame(data_with_all_nan_rows)\n",
    "\n",
    "# Drop rows where all values are missing\n",
    "df_dropped_all_nan_rows = df_with_all_nan_rows.dropna(how='all')\n",
    "print(df_dropped_all_nan_rows)"
   ]
  },
  {
   "cell_type": "code",
   "execution_count": 9,
   "id": "c1cd2720-f689-433b-af26-e90fe6a78a0c",
   "metadata": {},
   "outputs": [
    {
     "name": "stdout",
     "output_type": "stream",
     "text": [
      "     A    B     C\n",
      "0  1.0  5.0   9.0\n",
      "1  NaN  NaN   NaN\n",
      "2  NaN  NaN   NaN\n",
      "3  4.0  8.0  12.0\n"
     ]
    }
   ],
   "source": [
    "# Drop columns where all values are missing\n",
    "df_dropped_all_nan_columns = df_with_all_nan_rows.dropna(how='all', axis=1)\n",
    "print(df_dropped_all_nan_columns)"
   ]
  },
  {
   "cell_type": "code",
   "execution_count": 11,
   "id": "b1eb0c2a-d5ed-44ff-b1c0-226bfbfe1b8a",
   "metadata": {},
   "outputs": [
    {
     "name": "stdout",
     "output_type": "stream",
     "text": [
      "     A    B   C\n",
      "0  1.0  5.0   9\n",
      "1  2.0  0.0  10\n",
      "2  0.0  0.0  11\n",
      "3  4.0  8.0  12\n"
     ]
    }
   ],
   "source": [
    "import pandas as pd\n",
    "import numpy as np\n",
    "\n",
    "# Create a DataFrame with some missing values\n",
    "data = {\n",
    "    'A': [1, 2, np.nan, 4],\n",
    "    'B': [5, np.nan, np.nan, 8],\n",
    "    'C': [9, 10, 11, 12]\n",
    "}\n",
    "df = pd.DataFrame(data)\n",
    "\n",
    "# Fill NaNs with a specific value (e.g., 0)\n",
    "df_filled = df.fillna(0)\n",
    "print(df_filled)"
   ]
  },
  {
   "cell_type": "code",
   "execution_count": 13,
   "id": "e2847690-b46e-401e-9786-0b53058aae9d",
   "metadata": {},
   "outputs": [
    {
     "name": "stdout",
     "output_type": "stream",
     "text": [
      "          A    B   C\n",
      "0  1.000000  5.0   9\n",
      "1  2.000000  6.5  10\n",
      "2  2.333333  6.5  11\n",
      "3  4.000000  8.0  12\n",
      "     A    B   C\n",
      "0  1.0  5.0   9\n",
      "1  2.0  6.5  10\n",
      "2  2.0  6.5  11\n",
      "3  4.0  8.0  12\n",
      "     A    B   C\n",
      "0  1.0  5.0   9\n",
      "1  2.0  5.0  10\n",
      "2  1.0  5.0  11\n",
      "3  4.0  8.0  12\n"
     ]
    }
   ],
   "source": [
    "# Fill NaNs with the mean of the column\n",
    "df_filled_mean = df.fillna(df.mean())\n",
    "print(df_filled_mean)\n",
    "\n",
    "# Fill NaNs with the median of the column\n",
    "df_filled_median = df.fillna(df.median())\n",
    "print(df_filled_median)\n",
    "\n",
    "# Fill NaNs with the mode of the column (mode returns a DataFrame)\n",
    "df_filled_mode = df.fillna(df.mode().iloc[0])\n",
    "print(df_filled_mode)"
   ]
  },
  {
   "cell_type": "code",
   "execution_count": null,
   "id": "a62f3d84-bfd9-4b3c-8321-90f09f215ef6",
   "metadata": {},
   "outputs": [],
   "source": []
  },
  {
   "cell_type": "code",
   "execution_count": null,
   "id": "2e8bd40d-a8f4-4280-b27d-f2ab966ef78c",
   "metadata": {},
   "outputs": [],
   "source": []
  }
 ],
 "metadata": {
  "kernelspec": {
   "display_name": "Python 3 (ipykernel)",
   "language": "python",
   "name": "python3"
  },
  "language_info": {
   "codemirror_mode": {
    "name": "ipython",
    "version": 3
   },
   "file_extension": ".py",
   "mimetype": "text/x-python",
   "name": "python",
   "nbconvert_exporter": "python",
   "pygments_lexer": "ipython3",
   "version": "3.11.7"
  }
 },
 "nbformat": 4,
 "nbformat_minor": 5
}
