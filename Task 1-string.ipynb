{
 "cells": [
  {
   "cell_type": "code",
   "execution_count": 1,
   "id": "6f8ed9da-7363-4d2b-a9c3-b13325f07863",
   "metadata": {},
   "outputs": [
    {
     "name": "stdout",
     "output_type": "stream",
     "text": [
      "hello world\n"
     ]
    }
   ],
   "source": [
    "print(\"hello world\")"
   ]
  },
  {
   "cell_type": "code",
   "execution_count": 2,
   "id": "45b68e27-ae62-4fd2-87f6-7dce75abd55f",
   "metadata": {},
   "outputs": [
    {
     "name": "stdout",
     "output_type": "stream",
     "text": [
      "my self aniket\n"
     ]
    }
   ],
   "source": [
    "print(\"my self aniket\")"
   ]
  },
  {
   "cell_type": "code",
   "execution_count": 3,
   "id": "57527f17-c728-40e6-82d3-375e885c6850",
   "metadata": {},
   "outputs": [
    {
     "name": "stdout",
     "output_type": "stream",
     "text": [
      "My name is 'Aniket'\n"
     ]
    }
   ],
   "source": [
    "#Quotes inside the quote\n",
    "print(\"My name is 'Aniket'\")"
   ]
  },
  {
   "cell_type": "code",
   "execution_count": 4,
   "id": "3296a14a-0653-4573-8bd4-6d35b9fa8b40",
   "metadata": {},
   "outputs": [
    {
     "name": "stdout",
     "output_type": "stream",
     "text": [
      "My name is \"Aniket\"\n"
     ]
    }
   ],
   "source": [
    "print('My name is \"Aniket\"')"
   ]
  },
  {
   "cell_type": "code",
   "execution_count": 6,
   "id": "798fe60a-9ae2-48c8-90c0-87aad1c841e5",
   "metadata": {},
   "outputs": [
    {
     "data": {
      "text/plain": [
       "'name'"
      ]
     },
     "execution_count": 6,
     "metadata": {},
     "output_type": "execute_result"
    }
   ],
   "source": [
    "#assign string to variable\n",
    "n=\"name\"\n",
    "n"
   ]
  },
  {
   "cell_type": "code",
   "execution_count": 7,
   "id": "f56c167c-5621-4e0c-be18-36070f3139ca",
   "metadata": {},
   "outputs": [
    {
     "name": "stdout",
     "output_type": "stream",
     "text": [
      " Hi,\n",
      "I am Aniket,\n",
      "from Baramati.\n"
     ]
    }
   ],
   "source": [
    "#Multiple strings\n",
    "a=\"\"\" Hi,\n",
    "I am Aniket,\n",
    "from Baramati.\"\"\"\n",
    "print(a)"
   ]
  },
  {
   "cell_type": "code",
   "execution_count": 8,
   "id": "6cc41bc4-6503-4169-801f-8585ce5bb571",
   "metadata": {},
   "outputs": [
    {
     "name": "stdout",
     "output_type": "stream",
     "text": [
      ",\n"
     ]
    }
   ],
   "source": [
    "#strind the arrays\n",
    "b=\"Hello,dear!\"\n",
    "print(b[5])"
   ]
  },
  {
   "cell_type": "code",
   "execution_count": 10,
   "id": "90694e69-63d9-48ed-b819-972d8f9d6a31",
   "metadata": {},
   "outputs": [
    {
     "name": "stdout",
     "output_type": "stream",
     "text": [
      "c\n",
      "o\n",
      "l\n",
      "l\n",
      "e\n",
      "g\n",
      "e\n"
     ]
    }
   ],
   "source": [
    "#Looping through String\n",
    "for x in \"college\":\n",
    "    print(x)"
   ]
  },
  {
   "cell_type": "code",
   "execution_count": 11,
   "id": "42577655-a616-478f-8a2a-d08de1fe9fe8",
   "metadata": {},
   "outputs": [
    {
     "data": {
      "text/plain": [
       "7"
      ]
     },
     "execution_count": 11,
     "metadata": {},
     "output_type": "execute_result"
    }
   ],
   "source": [
    "#string length\n",
    "str=\"Baramti\"\n",
    "len(str)"
   ]
  },
  {
   "cell_type": "markdown",
   "id": "7de4390d-1905-4d64-994d-02e64d54cf4b",
   "metadata": {},
   "source": [
    "#check strings\n",
    "str1=\"I am from Baramati\"\n",
    "print(\"Baramati\" in str1)\n",
    "print(\"pune\" in str1)"
   ]
  },
  {
   "cell_type": "code",
   "execution_count": 14,
   "id": "47c97568-c9e8-4f81-9dac-01afe18ae409",
   "metadata": {},
   "outputs": [
    {
     "name": "stdout",
     "output_type": "stream",
     "text": [
      "yes,'Baramati' is present in str1\n"
     ]
    }
   ],
   "source": [
    "#use if stmt\n",
    "if \"Baramati\" in str1:\n",
    "    print(\"yes,'Baramati' is present in str1\")"
   ]
  },
  {
   "cell_type": "code",
   "execution_count": 15,
   "id": "3184a37b-8a1e-4ce9-a768-1a8928b9c65f",
   "metadata": {},
   "outputs": [
    {
     "name": "stdout",
     "output_type": "stream",
     "text": [
      "False\n"
     ]
    }
   ],
   "source": [
    "#check if not\n",
    "print(\"Baramati\"not in str1)\n"
   ]
  },
  {
   "cell_type": "code",
   "execution_count": 16,
   "id": "d8ed1aa6-d7b3-4f74-9b92-80087354c890",
   "metadata": {},
   "outputs": [
    {
     "name": "stdout",
     "output_type": "stream",
     "text": [
      "'hello' is not present in str1\n"
     ]
    }
   ],
   "source": [
    "#use if stmt\n",
    "if \"hello\" not in str1:\n",
    "    print(\"'hello' is not present in str1\")"
   ]
  },
  {
   "cell_type": "code",
   "execution_count": null,
   "id": "cba3ed85-acc5-4292-9ab5-da2ef7c9c158",
   "metadata": {},
   "outputs": [],
   "source": []
  }
 ],
 "metadata": {
  "kernelspec": {
   "display_name": "Python 3 (ipykernel)",
   "language": "python",
   "name": "python3"
  },
  "language_info": {
   "codemirror_mode": {
    "name": "ipython",
    "version": 3
   },
   "file_extension": ".py",
   "mimetype": "text/x-python",
   "name": "python",
   "nbconvert_exporter": "python",
   "pygments_lexer": "ipython3",
   "version": "3.11.7"
  }
 },
 "nbformat": 4,
 "nbformat_minor": 5
}
